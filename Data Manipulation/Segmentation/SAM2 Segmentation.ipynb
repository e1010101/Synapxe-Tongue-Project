{
 "cells": [
  {
   "cell_type": "code",
   "execution_count": 1,
   "metadata": {},
   "outputs": [],
   "source": [
    "import numpy as np\n",
    "from PIL import Image\n",
    "from tqdm import tqdm\n",
    "from datasets import load_dataset\n",
    "\n",
    "from ultralytics import SAM\n",
    "import os"
   ]
  },
  {
   "cell_type": "code",
   "execution_count": null,
   "metadata": {},
   "outputs": [],
   "source": [
    "dataset = load_dataset(\"e1010101/tongue-images-384\")\n",
    "dataset"
   ]
  },
  {
   "cell_type": "code",
   "execution_count": null,
   "metadata": {},
   "outputs": [],
   "source": [
    "# Please check the documentation at https://docs.ultralytics.com/models/sam-2\n",
    "# to get the latest models\n",
    "model = SAM(\"sam2.1_l.pt\")\n",
    "model.info()"
   ]
  },
  {
   "cell_type": "code",
   "execution_count": 4,
   "metadata": {},
   "outputs": [],
   "source": [
    "def segment(image):\n",
    "    image_np = np.array(image)\n",
    "    \n",
    "    # Segmentation\n",
    "    results_pil = model(image_np, points=[[350, 320], [0, 0]], labels=[1, 0])\n",
    "    \n",
    "    # Get the mask from the results\n",
    "    mask_pil = results_pil[0].masks.data[0].cpu().numpy()\n",
    "    \n",
    "    # Masking\n",
    "    binary_mask = mask_pil > 0.5\n",
    "    rgb_mask = np.repeat(binary_mask[:, :, np.newaxis], 3, axis=2)\n",
    "    segmented_image = image_np * rgb_mask\n",
    "    \n",
    "    return segmented_image"
   ]
  },
  {
   "cell_type": "code",
   "execution_count": null,
   "metadata": {},
   "outputs": [],
   "source": [
    "dataset['train']"
   ]
  },
  {
   "cell_type": "code",
   "execution_count": null,
   "metadata": {},
   "outputs": [],
   "source": [
    "splits = ['train', 'validation', 'test']\n",
    "\n",
    "for split in splits:\n",
    "    split_dir = os.path.join(\"output\", split)\n",
    "    os.makedirs(split_dir, exist_ok=True)\n",
    "    \n",
    "    ds = dataset[split]\n",
    "    \n",
    "    for idx, item in tqdm(enumerate(ds), total=len(ds), desc=f\"Processing {split}\"):\n",
    "        # Perform segmentation\n",
    "        result = segment(item['image'])\n",
    "        \n",
    "        # Convert the numpy array to PIL Image\n",
    "        segmented_image = Image.fromarray(result.astype(np.uint8))\n",
    "        \n",
    "        # Save the image\n",
    "        output_path = os.path.join(split_dir, f\"image_{idx}.png\")\n",
    "        segmented_image.save(output_path)\n",
    "        \n",
    "print(\"Saved all segmented images!\")"
   ]
  },
  {
   "cell_type": "markdown",
   "metadata": {},
   "source": [
    "It is recommended to manually browse through the output and remove any poorly-segmented images."
   ]
  }
 ],
 "metadata": {
  "kernelspec": {
   "display_name": "Project",
   "language": "python",
   "name": "python3"
  },
  "language_info": {
   "codemirror_mode": {
    "name": "ipython",
    "version": 3
   },
   "file_extension": ".py",
   "mimetype": "text/x-python",
   "name": "python",
   "nbconvert_exporter": "python",
   "pygments_lexer": "ipython3",
   "version": "3.11.9"
  }
 },
 "nbformat": 4,
 "nbformat_minor": 2
}
