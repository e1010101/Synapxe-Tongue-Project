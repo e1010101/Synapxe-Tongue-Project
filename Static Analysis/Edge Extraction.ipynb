{
 "cells": [
  {
   "cell_type": "code",
   "execution_count": 1,
   "metadata": {},
   "outputs": [],
   "source": [
    "import cv2\n",
    "import numpy as np\n",
    "import os\n",
    "\n",
    "from utils.visualization import *"
   ]
  },
  {
   "cell_type": "code",
   "execution_count": null,
   "metadata": {},
   "outputs": [],
   "source": []
  },
  {
   "cell_type": "code",
   "execution_count": 2,
   "metadata": {},
   "outputs": [],
   "source": [
    "def create_edge_mask(image, tongue_mask):\n",
    "    height, width = image.shape[:2]\n",
    "    mask = np.zeros((height, width), dtype=np.uint8)\n",
    "    \n",
    "    # Find the contour of the tongue\n",
    "    contours, _ = cv2.findContours(tongue_mask, cv2.RETR_EXTERNAL, cv2.CHAIN_APPROX_SIMPLE)\n",
    "    if contours:\n",
    "        tongue_contour = max(contours, key=cv2.contourArea)\n",
    "        \n",
    "        # Create a slightly smaller contour to focus on the edges\n",
    "        epsilon = 0.02 * cv2.arcLength(tongue_contour, True)\n",
    "        smaller_contour = cv2.approxPolyDP(tongue_contour, epsilon, True)\n",
    "        \n",
    "        # Draw the smaller contour on the mask\n",
    "        cv2.drawContours(mask, [smaller_contour], 0, 255, thickness=int(width * 0.15))\n",
    "    \n",
    "    # crop top region\n",
    "    mask[:int(height * 0.3), :] = 0  # Remove top 20%\n",
    "    \n",
    "    return mask"
   ]
  },
  {
   "cell_type": "code",
   "execution_count": 7,
   "metadata": {},
   "outputs": [],
   "source": [
    "def extract_edges(image_path, image):\n",
    "    _, tongue_mask = cv2.threshold(cv2.cvtColor(image, cv2.COLOR_BGR2GRAY), 1, 255, cv2.THRESH_BINARY)\n",
    "    edge_mask = create_edge_mask(image, tongue_mask)\n",
    "\n",
    "    # Apply the edge mask to the original image\n",
    "    masked_image = cv2.bitwise_and(image, image, mask=edge_mask)\n",
    "    vis_path = 'Data/extracted/test_visualization_toothmarks_' + image_path\n",
    "    cv2.imwrite(vis_path, masked_image)"
   ]
  },
  {
   "cell_type": "code",
   "execution_count": 8,
   "metadata": {},
   "outputs": [],
   "source": [
    "image_path = 'Data/to_extract'\n",
    "images = os.listdir(image_path)\n",
    "for image_file in images:\n",
    "    image_path = 'Data/to_extract'\n",
    "    if image_file.lower().endswith(('.png', '.jpg', '.jpeg')):\n",
    "        image_path = os.path.join(image_path, image_file)\n",
    "        image = cv2.imread(image_path)\n",
    "        if image is None:\n",
    "            print(f\"Error: Unable to read image at {image_path}\")\n",
    "            continue\n",
    "        \n",
    "        extract_edges(image_file, image)"
   ]
  }
 ],
 "metadata": {
  "kernelspec": {
   "display_name": "Project",
   "language": "python",
   "name": "python3"
  },
  "language_info": {
   "codemirror_mode": {
    "name": "ipython",
    "version": 3
   },
   "file_extension": ".py",
   "mimetype": "text/x-python",
   "name": "python",
   "nbconvert_exporter": "python",
   "pygments_lexer": "ipython3",
   "version": "3.11.9"
  }
 },
 "nbformat": 4,
 "nbformat_minor": 2
}
