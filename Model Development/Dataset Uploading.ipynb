{
 "cells": [
  {
   "cell_type": "code",
   "execution_count": 1,
   "metadata": {},
   "outputs": [
    {
     "name": "stderr",
     "output_type": "stream",
     "text": [
      "c:\\Users\\ezrat\\anaconda3\\envs\\Project\\Lib\\site-packages\\albumentations\\__init__.py:13: UserWarning: A new version of Albumentations is available: 1.4.21 (you have 1.4.18). Upgrade using: pip install -U albumentations. To disable automatic update checks, set the environment variable NO_ALBUMENTATIONS_UPDATE to 1.\n",
      "  check_for_updates()\n"
     ]
    }
   ],
   "source": [
    "import numpy as np\n",
    "import pandas as pd\n",
    "\n",
    "import torch\n",
    "\n",
    "from transformers import AutoImageProcessor\n",
    "from datasets import Dataset, DatasetDict, Features, Image, Sequence, Value, concatenate_datasets\n",
    "import albumentations as A\n",
    "from albumentations.pytorch import ToTensorV2\n",
    "import PIL\n",
    "import cv2\n",
    "\n",
    "import os"
   ]
  },
  {
   "cell_type": "code",
   "execution_count": 2,
   "metadata": {},
   "outputs": [
    {
     "data": {
      "application/vnd.jupyter.widget-view+json": {
       "model_id": "08896053091644e19d0a594524d4794a",
       "version_major": 2,
       "version_minor": 0
      },
      "text/plain": [
       "VBox(children=(HTML(value='<center> <img\\nsrc=https://huggingface.co/front/assets/huggingface_logo-noborder.sv…"
      ]
     },
     "metadata": {},
     "output_type": "display_data"
    }
   ],
   "source": [
    "from huggingface_hub import notebook_login\n",
    "notebook_login()"
   ]
  },
  {
   "cell_type": "code",
   "execution_count": 2,
   "metadata": {},
   "outputs": [],
   "source": [
    "data_path = \"dataset_segmented/\""
   ]
  },
  {
   "cell_type": "code",
   "execution_count": 4,
   "metadata": {},
   "outputs": [],
   "source": [
    "train_df = pd.read_csv(data_path + \"train/_classes.csv\")\n",
    "valid_df = pd.read_csv(data_path + \"valid/_classes.csv\")\n",
    "test_df = pd.read_csv(data_path + \"test/_classes.csv\")"
   ]
  },
  {
   "cell_type": "code",
   "execution_count": 5,
   "metadata": {},
   "outputs": [
    {
     "data": {
      "text/html": [
       "<div>\n",
       "<style scoped>\n",
       "    .dataframe tbody tr th:only-of-type {\n",
       "        vertical-align: middle;\n",
       "    }\n",
       "\n",
       "    .dataframe tbody tr th {\n",
       "        vertical-align: top;\n",
       "    }\n",
       "\n",
       "    .dataframe thead th {\n",
       "        text-align: right;\n",
       "    }\n",
       "</style>\n",
       "<table border=\"1\" class=\"dataframe\">\n",
       "  <thead>\n",
       "    <tr style=\"text-align: right;\">\n",
       "      <th></th>\n",
       "      <th>filename</th>\n",
       "      <th>labels</th>\n",
       "    </tr>\n",
       "  </thead>\n",
       "  <tbody>\n",
       "    <tr>\n",
       "      <th>0</th>\n",
       "      <td>image_00000.png</td>\n",
       "      <td>[0.0, 0.0, 1.0]</td>\n",
       "    </tr>\n",
       "    <tr>\n",
       "      <th>1</th>\n",
       "      <td>image_00001.png</td>\n",
       "      <td>[1.0, 1.0, 1.0]</td>\n",
       "    </tr>\n",
       "    <tr>\n",
       "      <th>2</th>\n",
       "      <td>image_00002.png</td>\n",
       "      <td>[0.0, 1.0, 0.0]</td>\n",
       "    </tr>\n",
       "    <tr>\n",
       "      <th>3</th>\n",
       "      <td>image_00003.png</td>\n",
       "      <td>[0.0, 1.0, 0.0]</td>\n",
       "    </tr>\n",
       "    <tr>\n",
       "      <th>4</th>\n",
       "      <td>image_00004.png</td>\n",
       "      <td>[0.0, 1.0, 1.0]</td>\n",
       "    </tr>\n",
       "    <tr>\n",
       "      <th>...</th>\n",
       "      <td>...</td>\n",
       "      <td>...</td>\n",
       "    </tr>\n",
       "    <tr>\n",
       "      <th>614</th>\n",
       "      <td>image_00614.png</td>\n",
       "      <td>[1.0, 1.0, 1.0]</td>\n",
       "    </tr>\n",
       "    <tr>\n",
       "      <th>615</th>\n",
       "      <td>image_00615.png</td>\n",
       "      <td>[1.0, 1.0, 0.0]</td>\n",
       "    </tr>\n",
       "    <tr>\n",
       "      <th>616</th>\n",
       "      <td>image_00616.png</td>\n",
       "      <td>[1.0, 0.0, 1.0]</td>\n",
       "    </tr>\n",
       "    <tr>\n",
       "      <th>617</th>\n",
       "      <td>image_00617.png</td>\n",
       "      <td>[1.0, 1.0, 1.0]</td>\n",
       "    </tr>\n",
       "    <tr>\n",
       "      <th>618</th>\n",
       "      <td>image_00618.png</td>\n",
       "      <td>[0.0, 1.0, 1.0]</td>\n",
       "    </tr>\n",
       "  </tbody>\n",
       "</table>\n",
       "<p>619 rows × 2 columns</p>\n",
       "</div>"
      ],
      "text/plain": [
       "            filename           labels\n",
       "0    image_00000.png  [0.0, 0.0, 1.0]\n",
       "1    image_00001.png  [1.0, 1.0, 1.0]\n",
       "2    image_00002.png  [0.0, 1.0, 0.0]\n",
       "3    image_00003.png  [0.0, 1.0, 0.0]\n",
       "4    image_00004.png  [0.0, 1.0, 1.0]\n",
       "..               ...              ...\n",
       "614  image_00614.png  [1.0, 1.0, 1.0]\n",
       "615  image_00615.png  [1.0, 1.0, 0.0]\n",
       "616  image_00616.png  [1.0, 0.0, 1.0]\n",
       "617  image_00617.png  [1.0, 1.0, 1.0]\n",
       "618  image_00618.png  [0.0, 1.0, 1.0]\n",
       "\n",
       "[619 rows x 2 columns]"
      ]
     },
     "execution_count": 5,
     "metadata": {},
     "output_type": "execute_result"
    }
   ],
   "source": [
    "train_df"
   ]
  },
  {
   "cell_type": "code",
   "execution_count": 5,
   "metadata": {},
   "outputs": [],
   "source": [
    "label_columns = ['Crack', 'Red-Dots', 'Toothmark']"
   ]
  },
  {
   "cell_type": "code",
   "execution_count": 6,
   "metadata": {},
   "outputs": [],
   "source": [
    "# Convert binary-encoded features to array of labels\n",
    "def binary_to_labels(row, label_cols):\n",
    "    return [float(row[col]) for col in label_cols]\n",
    "\n",
    "for df in [train_df, valid_df, test_df]:\n",
    "    df['labels'] = df.apply(lambda row: binary_to_labels(row, label_columns), axis=1)\n",
    "    df.drop(columns=label_columns, inplace=True)"
   ]
  },
  {
   "cell_type": "code",
   "execution_count": 7,
   "metadata": {},
   "outputs": [],
   "source": [
    "# Append image path to filename\n",
    "def add_image_path(df, split):\n",
    "    df['image'] = data_path + split + \"/\" + df['filename']\n",
    "    df = df[df['image'].apply(os.path.exists)]\n",
    "    return df[['image', 'labels']]\n",
    "\n",
    "train_dataset_df = add_image_path(train_df, \"train\")\n",
    "valid_dataset_df = add_image_path(valid_df, \"valid\")\n",
    "test_dataset_df = add_image_path(test_df, \"test\")"
   ]
  },
  {
   "cell_type": "code",
   "execution_count": 8,
   "metadata": {},
   "outputs": [
    {
     "data": {
      "text/html": [
       "<div>\n",
       "<style scoped>\n",
       "    .dataframe tbody tr th:only-of-type {\n",
       "        vertical-align: middle;\n",
       "    }\n",
       "\n",
       "    .dataframe tbody tr th {\n",
       "        vertical-align: top;\n",
       "    }\n",
       "\n",
       "    .dataframe thead th {\n",
       "        text-align: right;\n",
       "    }\n",
       "</style>\n",
       "<table border=\"1\" class=\"dataframe\">\n",
       "  <thead>\n",
       "    <tr style=\"text-align: right;\">\n",
       "      <th></th>\n",
       "      <th>image</th>\n",
       "      <th>labels</th>\n",
       "    </tr>\n",
       "  </thead>\n",
       "  <tbody>\n",
       "    <tr>\n",
       "      <th>0</th>\n",
       "      <td>dataset_original/train/CC_211_jpg.rf.31153880e...</td>\n",
       "      <td>[0.0, 0.0, 1.0]</td>\n",
       "    </tr>\n",
       "    <tr>\n",
       "      <th>1</th>\n",
       "      <td>dataset_original/train/CC_1873_jpg.rf.30bd76e7...</td>\n",
       "      <td>[1.0, 1.0, 1.0]</td>\n",
       "    </tr>\n",
       "    <tr>\n",
       "      <th>2</th>\n",
       "      <td>dataset_original/train/CC_1584_jpg.rf.3074bed7...</td>\n",
       "      <td>[0.0, 1.0, 0.0]</td>\n",
       "    </tr>\n",
       "    <tr>\n",
       "      <th>3</th>\n",
       "      <td>dataset_original/train/CC_1130_jpg.rf.321c01c0...</td>\n",
       "      <td>[0.0, 1.0, 0.0]</td>\n",
       "    </tr>\n",
       "    <tr>\n",
       "      <th>4</th>\n",
       "      <td>dataset_original/train/CC_526_jpg.rf.33619b9cd...</td>\n",
       "      <td>[0.0, 1.0, 1.0]</td>\n",
       "    </tr>\n",
       "    <tr>\n",
       "      <th>...</th>\n",
       "      <td>...</td>\n",
       "      <td>...</td>\n",
       "    </tr>\n",
       "    <tr>\n",
       "      <th>741</th>\n",
       "      <td>dataset_original/train/CC_162_jpg.rf.fc096c7c2...</td>\n",
       "      <td>[1.0, 0.0, 1.0]</td>\n",
       "    </tr>\n",
       "    <tr>\n",
       "      <th>742</th>\n",
       "      <td>dataset_original/train/CC_1059_jpg.rf.fd96a222...</td>\n",
       "      <td>[1.0, 1.0, 1.0]</td>\n",
       "    </tr>\n",
       "    <tr>\n",
       "      <th>743</th>\n",
       "      <td>dataset_original/train/CC_1035_jpg.rf.fb05385f...</td>\n",
       "      <td>[0.0, 1.0, 1.0]</td>\n",
       "    </tr>\n",
       "    <tr>\n",
       "      <th>744</th>\n",
       "      <td>dataset_original/train/CC_1355_jpg.rf.ffb1d2f1...</td>\n",
       "      <td>[0.0, 1.0, 1.0]</td>\n",
       "    </tr>\n",
       "    <tr>\n",
       "      <th>745</th>\n",
       "      <td>dataset_original/train/CC_131_jpg.rf.ff7272da2...</td>\n",
       "      <td>[1.0, 1.0, 1.0]</td>\n",
       "    </tr>\n",
       "  </tbody>\n",
       "</table>\n",
       "<p>746 rows × 2 columns</p>\n",
       "</div>"
      ],
      "text/plain": [
       "                                                 image           labels\n",
       "0    dataset_original/train/CC_211_jpg.rf.31153880e...  [0.0, 0.0, 1.0]\n",
       "1    dataset_original/train/CC_1873_jpg.rf.30bd76e7...  [1.0, 1.0, 1.0]\n",
       "2    dataset_original/train/CC_1584_jpg.rf.3074bed7...  [0.0, 1.0, 0.0]\n",
       "3    dataset_original/train/CC_1130_jpg.rf.321c01c0...  [0.0, 1.0, 0.0]\n",
       "4    dataset_original/train/CC_526_jpg.rf.33619b9cd...  [0.0, 1.0, 1.0]\n",
       "..                                                 ...              ...\n",
       "741  dataset_original/train/CC_162_jpg.rf.fc096c7c2...  [1.0, 0.0, 1.0]\n",
       "742  dataset_original/train/CC_1059_jpg.rf.fd96a222...  [1.0, 1.0, 1.0]\n",
       "743  dataset_original/train/CC_1035_jpg.rf.fb05385f...  [0.0, 1.0, 1.0]\n",
       "744  dataset_original/train/CC_1355_jpg.rf.ffb1d2f1...  [0.0, 1.0, 1.0]\n",
       "745  dataset_original/train/CC_131_jpg.rf.ff7272da2...  [1.0, 1.0, 1.0]\n",
       "\n",
       "[746 rows x 2 columns]"
      ]
     },
     "execution_count": 8,
     "metadata": {},
     "output_type": "execute_result"
    }
   ],
   "source": [
    "train_dataset_df"
   ]
  },
  {
   "cell_type": "code",
   "execution_count": 9,
   "metadata": {},
   "outputs": [],
   "source": [
    "num_classes = 3\n",
    "class_names = ['Crack', 'Red-Dots', 'Toothmark']\n",
    "\n",
    "# Labels is an array of floats\n",
    "features = Features({\n",
    "    'image': Image(),\n",
    "    'labels': Sequence(feature=Value('float32'), length=num_classes)\n",
    "})"
   ]
  },
  {
   "cell_type": "code",
   "execution_count": 10,
   "metadata": {},
   "outputs": [],
   "source": [
    "train_dataset = Dataset.from_pandas(train_dataset_df, features=features, preserve_index=False)\n",
    "valid_dataset = Dataset.from_pandas(valid_dataset_df, features=features, preserve_index=False)\n",
    "test_dataset = Dataset.from_pandas(test_dataset_df, features=features, preserve_index=False)"
   ]
  },
  {
   "cell_type": "code",
   "execution_count": 11,
   "metadata": {},
   "outputs": [],
   "source": [
    "def rgb_to_lab(example):\n",
    "    image_np = np.array(example['image'])\n",
    "    \n",
    "    # Remove alpha channel if present\n",
    "    if image_np.shape[-1] == 4:\n",
    "        image_np = image_np[..., :3]\n",
    "    \n",
    "    image_bgr = cv2.cvtColor(image_np, cv2.COLOR_RGB2BGR)\n",
    "    image_lab = cv2.cvtColor(image_bgr, cv2.COLOR_BGR2LAB).astype(np.float32)\n",
    "    \n",
    "    # Adjust the LAB channels to standard ranges\n",
    "    # L channel [0, 100]\n",
    "    image_lab[..., 0] = image_lab[..., 0] * (100 / 255)\n",
    "    # a and b channels [-128, 127]\n",
    "    image_lab[..., 1:] = image_lab[..., 1:] - 128\n",
    "    \n",
    "    example['image'] = image_lab\n",
    "    return example"
   ]
  },
  {
   "cell_type": "code",
   "execution_count": null,
   "metadata": {},
   "outputs": [
    {
     "data": {
      "application/vnd.jupyter.widget-view+json": {
       "model_id": "9d3e740c2e1149408b308cc1e8b78f6a",
       "version_major": 2,
       "version_minor": 0
      },
      "text/plain": [
       "Map:   0%|          | 0/746 [00:00<?, ? examples/s]"
      ]
     },
     "metadata": {},
     "output_type": "display_data"
    },
    {
     "name": "stderr",
     "output_type": "stream",
     "text": [
      "Exception ignored in: <bound method IPythonKernel._clean_thread_parent_frames of <ipykernel.ipkernel.IPythonKernel object at 0x0000023E566ED810>>\n",
      "Traceback (most recent call last):\n",
      "  File \"c:\\Users\\ezrat\\anaconda3\\envs\\Project\\Lib\\site-packages\\ipykernel\\ipkernel.py\", line 790, in _clean_thread_parent_frames\n",
      "    active_threads = {thread.ident for thread in threading.enumerate()}\n",
      "                                                 ^^^^^^^^^^^^^^^^^^^^^\n",
      "  File \"c:\\Users\\ezrat\\anaconda3\\envs\\Project\\Lib\\threading.py\", line 1501, in enumerate\n",
      "    def enumerate():\n",
      "    \n",
      "KeyboardInterrupt: \n",
      "Exception ignored in: <bound method IPythonKernel._clean_thread_parent_frames of <ipykernel.ipkernel.IPythonKernel object at 0x0000023E566ED810>>\n",
      "Traceback (most recent call last):\n",
      "  File \"c:\\Users\\ezrat\\anaconda3\\envs\\Project\\Lib\\site-packages\\ipykernel\\ipkernel.py\", line 790, in _clean_thread_parent_frames\n",
      "    active_threads = {thread.ident for thread in threading.enumerate()}\n",
      "                                                 ^^^^^^^^^^^^^^^^^^^^^\n",
      "  File \"c:\\Users\\ezrat\\anaconda3\\envs\\Project\\Lib\\threading.py\", line 1501, in enumerate\n",
      "    def enumerate():\n",
      "    \n",
      "KeyboardInterrupt: \n"
     ]
    }
   ],
   "source": [
    "train_dataset_lab = train_dataset.map(rgb_to_lab)\n",
    "valid_dataset_lab = valid_dataset.map(rgb_to_lab)\n",
    "test_dataset_lab = test_dataset.map(rgb_to_lab)"
   ]
  },
  {
   "cell_type": "code",
   "execution_count": null,
   "metadata": {},
   "outputs": [],
   "source": [
    "combined_train_dataset = concatenate_datasets([train_dataset, train_dataset_lab])\n",
    "combined_valid_dataset = concatenate_datasets([valid_dataset, valid_dataset_lab])\n",
    "combined_test_dataset = concatenate_datasets([test_dataset, test_dataset_lab])"
   ]
  }
 ],
 "metadata": {
  "kernelspec": {
   "display_name": "Project",
   "language": "python",
   "name": "python3"
  },
  "language_info": {
   "codemirror_mode": {
    "name": "ipython",
    "version": 3
   },
   "file_extension": ".py",
   "mimetype": "text/x-python",
   "name": "python",
   "nbconvert_exporter": "python",
   "pygments_lexer": "ipython3",
   "version": "3.11.9"
  }
 },
 "nbformat": 4,
 "nbformat_minor": 2
}
