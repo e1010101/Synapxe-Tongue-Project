{
 "cells": [
  {
   "cell_type": "code",
   "execution_count": 1,
   "metadata": {},
   "outputs": [],
   "source": [
    "import numpy as np\n",
    "import pandas as pd\n",
    "\n",
    "import torch\n",
    "\n",
    "from transformers import AutoImageProcessor\n",
    "from datasets import Dataset, DatasetDict, Features, Image, Sequence, Value, concatenate_datasets\n",
    "import albumentations as A\n",
    "from albumentations.pytorch import ToTensorV2\n",
    "import PIL\n",
    "import cv2\n",
    "\n",
    "import os"
   ]
  },
  {
   "cell_type": "code",
   "execution_count": 2,
   "metadata": {},
   "outputs": [
    {
     "data": {
      "application/vnd.jupyter.widget-view+json": {
       "model_id": "08896053091644e19d0a594524d4794a",
       "version_major": 2,
       "version_minor": 0
      },
      "text/plain": [
       "VBox(children=(HTML(value='<center> <img\\nsrc=https://huggingface.co/front/assets/huggingface_logo-noborder.sv…"
      ]
     },
     "metadata": {},
     "output_type": "display_data"
    }
   ],
   "source": [
    "from huggingface_hub import notebook_login\n",
    "notebook_login()"
   ]
  },
  {
   "cell_type": "code",
   "execution_count": 2,
   "metadata": {},
   "outputs": [],
   "source": [
    "data_path = \"dataset_original/\""
   ]
  },
  {
   "cell_type": "code",
   "execution_count": 3,
   "metadata": {},
   "outputs": [],
   "source": [
    "train_df = pd.read_csv(data_path + \"train/_classes.csv\")\n",
    "valid_df = pd.read_csv(data_path + \"valid/_classes.csv\")\n",
    "test_df = pd.read_csv(data_path + \"test/_classes.csv\")"
   ]
  },
  {
   "cell_type": "code",
   "execution_count": 4,
   "metadata": {},
   "outputs": [
    {
     "data": {
      "text/html": [
       "<div>\n",
       "<style scoped>\n",
       "    .dataframe tbody tr th:only-of-type {\n",
       "        vertical-align: middle;\n",
       "    }\n",
       "\n",
       "    .dataframe tbody tr th {\n",
       "        vertical-align: top;\n",
       "    }\n",
       "\n",
       "    .dataframe thead th {\n",
       "        text-align: right;\n",
       "    }\n",
       "</style>\n",
       "<table border=\"1\" class=\"dataframe\">\n",
       "  <thead>\n",
       "    <tr style=\"text-align: right;\">\n",
       "      <th></th>\n",
       "      <th>filename</th>\n",
       "      <th>Crack</th>\n",
       "      <th>Red-Dots</th>\n",
       "      <th>Toothmark</th>\n",
       "    </tr>\n",
       "  </thead>\n",
       "  <tbody>\n",
       "    <tr>\n",
       "      <th>0</th>\n",
       "      <td>CC_1203_jpg.rf.61053fa87a643e3a9bafe7699832936...</td>\n",
       "      <td>1</td>\n",
       "      <td>1</td>\n",
       "      <td>1</td>\n",
       "    </tr>\n",
       "    <tr>\n",
       "      <th>1</th>\n",
       "      <td>CC_1124_jpg.rf.60ea6bd496edff0b1a1893d391fb829...</td>\n",
       "      <td>0</td>\n",
       "      <td>0</td>\n",
       "      <td>1</td>\n",
       "    </tr>\n",
       "    <tr>\n",
       "      <th>2</th>\n",
       "      <td>CC_1180_jpg.rf.60bf78bedca0f5a672a15037111c54c...</td>\n",
       "      <td>0</td>\n",
       "      <td>0</td>\n",
       "      <td>0</td>\n",
       "    </tr>\n",
       "    <tr>\n",
       "      <th>3</th>\n",
       "      <td>CC_1695_jpg.rf.60f3e95ea1ac1d56c7740429592cf4f...</td>\n",
       "      <td>0</td>\n",
       "      <td>1</td>\n",
       "      <td>1</td>\n",
       "    </tr>\n",
       "    <tr>\n",
       "      <th>4</th>\n",
       "      <td>CC_2205_jpg.rf.60d5c2db9eecdd981f902b24b8e66c0...</td>\n",
       "      <td>1</td>\n",
       "      <td>0</td>\n",
       "      <td>1</td>\n",
       "    </tr>\n",
       "    <tr>\n",
       "      <th>...</th>\n",
       "      <td>...</td>\n",
       "      <td>...</td>\n",
       "      <td>...</td>\n",
       "      <td>...</td>\n",
       "    </tr>\n",
       "    <tr>\n",
       "      <th>5217</th>\n",
       "      <td>CC_2482_jpg.rf.c53be5cf801b42b87c902fdb1678787...</td>\n",
       "      <td>0</td>\n",
       "      <td>1</td>\n",
       "      <td>1</td>\n",
       "    </tr>\n",
       "    <tr>\n",
       "      <th>5218</th>\n",
       "      <td>CC_1357_jpg.rf.c760c2d9ee7c1969f74f6f4d9eb4d30...</td>\n",
       "      <td>0</td>\n",
       "      <td>1</td>\n",
       "      <td>1</td>\n",
       "    </tr>\n",
       "    <tr>\n",
       "      <th>5219</th>\n",
       "      <td>CC_846_jpg.rf.c6ad499bee05275675c71e098864c395...</td>\n",
       "      <td>0</td>\n",
       "      <td>1</td>\n",
       "      <td>1</td>\n",
       "    </tr>\n",
       "    <tr>\n",
       "      <th>5220</th>\n",
       "      <td>CC_1056_jpg.rf.c82d5d3936fb6a0f651117f6b054508...</td>\n",
       "      <td>0</td>\n",
       "      <td>0</td>\n",
       "      <td>0</td>\n",
       "    </tr>\n",
       "    <tr>\n",
       "      <th>5221</th>\n",
       "      <td>CC_1398_jpg.rf.c684e9a89f7955fcd0af4ccf0bde2ef...</td>\n",
       "      <td>1</td>\n",
       "      <td>1</td>\n",
       "      <td>0</td>\n",
       "    </tr>\n",
       "  </tbody>\n",
       "</table>\n",
       "<p>5222 rows × 4 columns</p>\n",
       "</div>"
      ],
      "text/plain": [
       "                                               filename  Crack  Red-Dots  \\\n",
       "0     CC_1203_jpg.rf.61053fa87a643e3a9bafe7699832936...      1         1   \n",
       "1     CC_1124_jpg.rf.60ea6bd496edff0b1a1893d391fb829...      0         0   \n",
       "2     CC_1180_jpg.rf.60bf78bedca0f5a672a15037111c54c...      0         0   \n",
       "3     CC_1695_jpg.rf.60f3e95ea1ac1d56c7740429592cf4f...      0         1   \n",
       "4     CC_2205_jpg.rf.60d5c2db9eecdd981f902b24b8e66c0...      1         0   \n",
       "...                                                 ...    ...       ...   \n",
       "5217  CC_2482_jpg.rf.c53be5cf801b42b87c902fdb1678787...      0         1   \n",
       "5218  CC_1357_jpg.rf.c760c2d9ee7c1969f74f6f4d9eb4d30...      0         1   \n",
       "5219  CC_846_jpg.rf.c6ad499bee05275675c71e098864c395...      0         1   \n",
       "5220  CC_1056_jpg.rf.c82d5d3936fb6a0f651117f6b054508...      0         0   \n",
       "5221  CC_1398_jpg.rf.c684e9a89f7955fcd0af4ccf0bde2ef...      1         1   \n",
       "\n",
       "      Toothmark  \n",
       "0             1  \n",
       "1             1  \n",
       "2             0  \n",
       "3             1  \n",
       "4             1  \n",
       "...         ...  \n",
       "5217          1  \n",
       "5218          1  \n",
       "5219          1  \n",
       "5220          0  \n",
       "5221          0  \n",
       "\n",
       "[5222 rows x 4 columns]"
      ]
     },
     "execution_count": 4,
     "metadata": {},
     "output_type": "execute_result"
    }
   ],
   "source": [
    "train_df"
   ]
  },
  {
   "cell_type": "code",
   "execution_count": 5,
   "metadata": {},
   "outputs": [],
   "source": [
    "label_columns = ['Crack', 'Red-Dots', 'Toothmark']"
   ]
  },
  {
   "cell_type": "code",
   "execution_count": 6,
   "metadata": {},
   "outputs": [],
   "source": [
    "# Convert binary-encoded features to array of labels\n",
    "def binary_to_labels(row, label_cols):\n",
    "    return [float(row[col]) for col in label_cols]\n",
    "\n",
    "for df in [train_df, valid_df, test_df]:\n",
    "    df['labels'] = df.apply(lambda row: binary_to_labels(row, label_columns), axis=1)\n",
    "    df.drop(columns=label_columns, inplace=True)"
   ]
  },
  {
   "cell_type": "code",
   "execution_count": 7,
   "metadata": {},
   "outputs": [],
   "source": [
    "# Append image path to filename\n",
    "def add_image_path(df, split):\n",
    "    df['image'] = data_path + split + \"/\" + df['filename']\n",
    "    df = df[df['image'].apply(os.path.exists)]\n",
    "    return df[['image', 'labels']]\n",
    "\n",
    "train_dataset_df = add_image_path(train_df, \"train\")\n",
    "valid_dataset_df = add_image_path(valid_df, \"valid\")\n",
    "test_dataset_df = add_image_path(test_df, \"test\")"
   ]
  },
  {
   "cell_type": "code",
   "execution_count": 8,
   "metadata": {},
   "outputs": [
    {
     "data": {
      "text/html": [
       "<div>\n",
       "<style scoped>\n",
       "    .dataframe tbody tr th:only-of-type {\n",
       "        vertical-align: middle;\n",
       "    }\n",
       "\n",
       "    .dataframe tbody tr th {\n",
       "        vertical-align: top;\n",
       "    }\n",
       "\n",
       "    .dataframe thead th {\n",
       "        text-align: right;\n",
       "    }\n",
       "</style>\n",
       "<table border=\"1\" class=\"dataframe\">\n",
       "  <thead>\n",
       "    <tr style=\"text-align: right;\">\n",
       "      <th></th>\n",
       "      <th>image</th>\n",
       "      <th>labels</th>\n",
       "    </tr>\n",
       "  </thead>\n",
       "  <tbody>\n",
       "    <tr>\n",
       "      <th>0</th>\n",
       "      <td>dataset/train/CC_1203_jpg.rf.61053fa87a643e3a9...</td>\n",
       "      <td>[1.0, 1.0, 1.0]</td>\n",
       "    </tr>\n",
       "    <tr>\n",
       "      <th>1</th>\n",
       "      <td>dataset/train/CC_1124_jpg.rf.60ea6bd496edff0b1...</td>\n",
       "      <td>[0.0, 0.0, 1.0]</td>\n",
       "    </tr>\n",
       "    <tr>\n",
       "      <th>2</th>\n",
       "      <td>dataset/train/CC_1180_jpg.rf.60bf78bedca0f5a67...</td>\n",
       "      <td>[0.0, 0.0, 0.0]</td>\n",
       "    </tr>\n",
       "    <tr>\n",
       "      <th>3</th>\n",
       "      <td>dataset/train/CC_1695_jpg.rf.60f3e95ea1ac1d56c...</td>\n",
       "      <td>[0.0, 1.0, 1.0]</td>\n",
       "    </tr>\n",
       "    <tr>\n",
       "      <th>4</th>\n",
       "      <td>dataset/train/CC_2205_jpg.rf.60d5c2db9eecdd981...</td>\n",
       "      <td>[1.0, 0.0, 1.0]</td>\n",
       "    </tr>\n",
       "    <tr>\n",
       "      <th>...</th>\n",
       "      <td>...</td>\n",
       "      <td>...</td>\n",
       "    </tr>\n",
       "    <tr>\n",
       "      <th>5217</th>\n",
       "      <td>dataset/train/CC_2482_jpg.rf.c53be5cf801b42b87...</td>\n",
       "      <td>[0.0, 1.0, 1.0]</td>\n",
       "    </tr>\n",
       "    <tr>\n",
       "      <th>5218</th>\n",
       "      <td>dataset/train/CC_1357_jpg.rf.c760c2d9ee7c1969f...</td>\n",
       "      <td>[0.0, 1.0, 1.0]</td>\n",
       "    </tr>\n",
       "    <tr>\n",
       "      <th>5219</th>\n",
       "      <td>dataset/train/CC_846_jpg.rf.c6ad499bee05275675...</td>\n",
       "      <td>[0.0, 1.0, 1.0]</td>\n",
       "    </tr>\n",
       "    <tr>\n",
       "      <th>5220</th>\n",
       "      <td>dataset/train/CC_1056_jpg.rf.c82d5d3936fb6a0f6...</td>\n",
       "      <td>[0.0, 0.0, 0.0]</td>\n",
       "    </tr>\n",
       "    <tr>\n",
       "      <th>5221</th>\n",
       "      <td>dataset/train/CC_1398_jpg.rf.c684e9a89f7955fcd...</td>\n",
       "      <td>[1.0, 1.0, 0.0]</td>\n",
       "    </tr>\n",
       "  </tbody>\n",
       "</table>\n",
       "<p>5222 rows × 2 columns</p>\n",
       "</div>"
      ],
      "text/plain": [
       "                                                  image           labels\n",
       "0     dataset/train/CC_1203_jpg.rf.61053fa87a643e3a9...  [1.0, 1.0, 1.0]\n",
       "1     dataset/train/CC_1124_jpg.rf.60ea6bd496edff0b1...  [0.0, 0.0, 1.0]\n",
       "2     dataset/train/CC_1180_jpg.rf.60bf78bedca0f5a67...  [0.0, 0.0, 0.0]\n",
       "3     dataset/train/CC_1695_jpg.rf.60f3e95ea1ac1d56c...  [0.0, 1.0, 1.0]\n",
       "4     dataset/train/CC_2205_jpg.rf.60d5c2db9eecdd981...  [1.0, 0.0, 1.0]\n",
       "...                                                 ...              ...\n",
       "5217  dataset/train/CC_2482_jpg.rf.c53be5cf801b42b87...  [0.0, 1.0, 1.0]\n",
       "5218  dataset/train/CC_1357_jpg.rf.c760c2d9ee7c1969f...  [0.0, 1.0, 1.0]\n",
       "5219  dataset/train/CC_846_jpg.rf.c6ad499bee05275675...  [0.0, 1.0, 1.0]\n",
       "5220  dataset/train/CC_1056_jpg.rf.c82d5d3936fb6a0f6...  [0.0, 0.0, 0.0]\n",
       "5221  dataset/train/CC_1398_jpg.rf.c684e9a89f7955fcd...  [1.0, 1.0, 0.0]\n",
       "\n",
       "[5222 rows x 2 columns]"
      ]
     },
     "execution_count": 8,
     "metadata": {},
     "output_type": "execute_result"
    }
   ],
   "source": [
    "train_dataset_df"
   ]
  },
  {
   "cell_type": "code",
   "execution_count": 9,
   "metadata": {},
   "outputs": [],
   "source": [
    "num_classes = 3\n",
    "class_names = ['Crack', 'Red-Dots', 'Toothmark']\n",
    "\n",
    "# Labels is an array of floats\n",
    "features = Features({\n",
    "    'image': Image(),\n",
    "    'labels': Sequence(feature=Value('float32'), length=num_classes)\n",
    "})"
   ]
  },
  {
   "cell_type": "code",
   "execution_count": 10,
   "metadata": {},
   "outputs": [],
   "source": [
    "train_dataset = Dataset.from_pandas(train_dataset_df, features=features, preserve_index=False)\n",
    "valid_dataset = Dataset.from_pandas(valid_dataset_df, features=features, preserve_index=False)\n",
    "test_dataset = Dataset.from_pandas(test_dataset_df, features=features, preserve_index=False)"
   ]
  },
  {
   "cell_type": "code",
   "execution_count": 11,
   "metadata": {},
   "outputs": [],
   "source": [
    "def rgb_to_lab(example):\n",
    "    image_np = np.array(example['image'])\n",
    "    \n",
    "    # Remove alpha channel if present\n",
    "    if image_np.shape[-1] == 4:\n",
    "        image_np = image_np[..., :3]\n",
    "    \n",
    "    image_bgr = cv2.cvtColor(image_np, cv2.COLOR_RGB2BGR)\n",
    "    image_lab = cv2.cvtColor(image_bgr, cv2.COLOR_BGR2LAB).astype(np.float32)\n",
    "    \n",
    "    # Adjust the LAB channels to standard ranges\n",
    "    # L channel [0, 100]\n",
    "    image_lab[..., 0] = image_lab[..., 0] * (100 / 255)\n",
    "    # a and b channels [-128, 127]\n",
    "    image_lab[..., 1:] = image_lab[..., 1:] - 128\n",
    "    \n",
    "    example['image'] = image_lab\n",
    "    return example"
   ]
  },
  {
   "cell_type": "code",
   "execution_count": 12,
   "metadata": {},
   "outputs": [
    {
     "data": {
      "application/vnd.jupyter.widget-view+json": {
       "model_id": "5e2b5545964f4137b57295f78f76b6f8",
       "version_major": 2,
       "version_minor": 0
      },
      "text/plain": [
       "Map:   0%|          | 0/5222 [00:00<?, ? examples/s]"
      ]
     },
     "metadata": {},
     "output_type": "display_data"
    }
   ],
   "source": [
    "train_dataset_lab = train_dataset.map(rgb_to_lab)"
   ]
  },
  {
   "cell_type": "code",
   "execution_count": null,
   "metadata": {},
   "outputs": [],
   "source": []
  }
 ],
 "metadata": {
  "kernelspec": {
   "display_name": "Standard",
   "language": "python",
   "name": "python3"
  },
  "language_info": {
   "codemirror_mode": {
    "name": "ipython",
    "version": 3
   },
   "file_extension": ".py",
   "mimetype": "text/x-python",
   "name": "python",
   "nbconvert_exporter": "python",
   "pygments_lexer": "ipython3",
   "version": "3.11.9"
  }
 },
 "nbformat": 4,
 "nbformat_minor": 2
}
