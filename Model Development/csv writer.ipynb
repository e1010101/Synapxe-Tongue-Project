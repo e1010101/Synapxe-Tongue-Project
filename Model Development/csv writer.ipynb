{
 "cells": [
  {
   "cell_type": "code",
   "execution_count": 6,
   "metadata": {},
   "outputs": [
    {
     "name": "stdout",
     "output_type": "stream",
     "text": [
      "                filename  Crack  Red Dots  Toothmark\n",
      "0  valid_image_00000.png    1.0       1.0        1.0\n",
      "1  valid_image_00001.png    0.0       1.0        1.0\n",
      "2  valid_image_00002.png    1.0       1.0        0.0\n",
      "3  valid_image_00003.png    0.0       0.0        0.0\n",
      "4  valid_image_00004.png    0.0       0.0        0.0\n"
     ]
    }
   ],
   "source": [
    "import pandas as pd\n",
    "import ast\n",
    "\n",
    "# Read the CSV file\n",
    "df = pd.read_csv('dataset_segmented/valid/metadata.csv')\n",
    "\n",
    "# Convert string representation of lists to actual lists\n",
    "df['labels'] = df['labels'].apply(ast.literal_eval)\n",
    "\n",
    "# Get the maximum length of any labels list to determine number of columns\n",
    "max_labels = max(len(labels) for labels in df['labels'])\n",
    "\n",
    "label_names = ['Crack', 'Red Dots', 'Toothmark']\n",
    "\n",
    "for i in range(max_labels):\n",
    "    df[label_names[i]] = df['labels'].apply(lambda x: x[i] if i < len(x) else None)\n",
    "\n",
    "# Optionally drop the original 'labels' column\n",
    "df = df.drop('labels', axis=1)\n",
    "\n",
    "# Display the first few rows to verify\n",
    "print(df.head())"
   ]
  },
  {
   "cell_type": "code",
   "execution_count": 7,
   "metadata": {},
   "outputs": [],
   "source": [
    "df.to_csv('valid.csv', index=False)"
   ]
  }
 ],
 "metadata": {
  "kernelspec": {
   "display_name": "Standard",
   "language": "python",
   "name": "python3"
  },
  "language_info": {
   "codemirror_mode": {
    "name": "ipython",
    "version": 3
   },
   "file_extension": ".py",
   "mimetype": "text/x-python",
   "name": "python",
   "nbconvert_exporter": "python",
   "pygments_lexer": "ipython3",
   "version": "3.11.9"
  }
 },
 "nbformat": 4,
 "nbformat_minor": 2
}
