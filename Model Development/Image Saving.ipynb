{
 "cells": [
  {
   "cell_type": "code",
   "execution_count": 8,
   "metadata": {},
   "outputs": [],
   "source": [
    "import pandas as pd\n",
    "import shutil\n",
    "import os"
   ]
  },
  {
   "cell_type": "code",
   "execution_count": 9,
   "metadata": {},
   "outputs": [],
   "source": [
    "df = pd.read_csv('image_clusters.csv')"
   ]
  },
  {
   "cell_type": "code",
   "execution_count": 12,
   "metadata": {},
   "outputs": [],
   "source": [
    "base_dir = 'clustered_images'\n",
    "os.makedirs(base_dir, exist_ok=True)"
   ]
  },
  {
   "cell_type": "code",
   "execution_count": 13,
   "metadata": {},
   "outputs": [],
   "source": [
    "for index, row in df.iterrows():\n",
    "    filename = row['filename']\n",
    "    cluster = row['cluster']\n",
    "    \n",
    "    # Create a directory for the cluster if it doesn't exist\n",
    "    cluster_dir = os.path.join(base_dir, f'cluster_{cluster}')\n",
    "    os.makedirs(cluster_dir, exist_ok=True)\n",
    "    \n",
    "    # Construct the source and destination paths\n",
    "    source_path = filename\n",
    "    image_name = filename.split(\"\\\\\")[-1]\n",
    "    dest_path = os.path.join(cluster_dir, image_name)\n",
    "    \n",
    "    # Copy the image to the appropriate cluster directory\n",
    "    shutil.copy2(source_path, dest_path)"
   ]
  },
  {
   "cell_type": "code",
   "execution_count": null,
   "metadata": {},
   "outputs": [],
   "source": []
  }
 ],
 "metadata": {
  "kernelspec": {
   "display_name": "Project",
   "language": "python",
   "name": "python3"
  },
  "language_info": {
   "codemirror_mode": {
    "name": "ipython",
    "version": 3
   },
   "file_extension": ".py",
   "mimetype": "text/x-python",
   "name": "python",
   "nbconvert_exporter": "python",
   "pygments_lexer": "ipython3",
   "version": "3.11.9"
  }
 },
 "nbformat": 4,
 "nbformat_minor": 2
}
