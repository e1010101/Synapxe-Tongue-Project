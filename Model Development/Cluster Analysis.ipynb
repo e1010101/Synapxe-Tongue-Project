{
 "cells": [
  {
   "cell_type": "code",
   "execution_count": 1,
   "metadata": {},
   "outputs": [],
   "source": [
    "import os\n",
    "import numpy as np\n",
    "import pandas as pd\n",
    "import matplotlib.pyplot as plt\n",
    "import cv2"
   ]
  },
  {
   "cell_type": "code",
   "execution_count": 2,
   "metadata": {},
   "outputs": [],
   "source": [
    "def analyze_cluster_image_first(cluster_path):\n",
    "    image_rgb_stats = []\n",
    "    image_lab_stats = []\n",
    "    \n",
    "    for image_file in os.listdir(cluster_path):\n",
    "        if image_file.lower().endswith(('.png', '.jpg', '.jpeg')):\n",
    "            img_path = os.path.join(cluster_path, image_file)\n",
    "            img = cv2.imread(img_path)\n",
    "            \n",
    "            # Create mask for non-black pixels (RGB != 0,0,0)\n",
    "            non_black_mask = ~np.all(img == [0, 0, 0], axis=2)\n",
    "            \n",
    "            img_rgb = cv2.cvtColor(img, cv2.COLOR_BGR2RGB)\n",
    "            pixels_rgb = img_rgb.reshape(-1, 3)\n",
    "            non_black_mask_flat = non_black_mask.flatten()\n",
    "            \n",
    "            # Filter out black pixels\n",
    "            img_rgb_filtered = pixels_rgb[non_black_mask_flat]\n",
    "            if img_rgb_filtered.size == 0:\n",
    "                continue  # Skip this image if all pixels are black\n",
    "            \n",
    "            # Convert RGB to LAB\n",
    "            img_lab = cv2.cvtColor(img, cv2.COLOR_BGR2LAB)\n",
    "            pixels_lab = img_lab.reshape(-1, 3)\n",
    "            img_lab_filtered = pixels_lab[non_black_mask_flat]\n",
    "            \n",
    "            # Calculate RGB and LAB statistics for this image\n",
    "            img_rgb_stats = {\n",
    "                'avg': np.mean(img_rgb_filtered, axis=0),\n",
    "                'min': np.min(img_rgb_filtered, axis=0),\n",
    "                'max': np.max(img_rgb_filtered, axis=0)\n",
    "            }\n",
    "            img_lab_stats = {\n",
    "                'avg': np.mean(img_lab_filtered, axis=0),\n",
    "                'min': np.min(img_lab_filtered, axis=0),\n",
    "                'max': np.max(img_lab_filtered, axis=0)\n",
    "            }\n",
    "            \n",
    "            image_rgb_stats.append(img_rgb_stats)\n",
    "            image_lab_stats.append(img_lab_stats)\n",
    "    \n",
    "    if len(image_rgb_stats) == 0:\n",
    "        return {\n",
    "            'rgb': {'avg': [0, 0, 0], 'min': [0, 0, 0], 'max': [0, 0, 0]},\n",
    "            'lab': {'avg': [0, 0, 0], 'min': [0, 0, 0], 'max': [0, 0, 0]}\n",
    "        }\n",
    "    \n",
    "    # Step 2: Aggregate the image statistics to calculate cluster statistics\n",
    "    avg_rgb_values = np.mean([img_stats['avg'] for img_stats in image_rgb_stats], axis=0)\n",
    "    min_rgb_values = np.min([img_stats['min'] for img_stats in image_rgb_stats], axis=0)\n",
    "    max_rgb_values = np.max([img_stats['max'] for img_stats in image_rgb_stats], axis=0)\n",
    "    \n",
    "    avg_lab_values = np.mean([img_stats['avg'] for img_stats in image_lab_stats], axis=0)\n",
    "    min_lab_values = np.min([img_stats['min'] for img_stats in image_lab_stats], axis=0)\n",
    "    max_lab_values = np.max([img_stats['max'] for img_stats in image_lab_stats], axis=0)\n",
    "    \n",
    "    return {\n",
    "        'rgb': {\n",
    "            'avg': avg_rgb_values,\n",
    "            'min': min_rgb_values,\n",
    "            'max': max_rgb_values\n",
    "        },\n",
    "        'lab': {\n",
    "            'avg': avg_lab_values,\n",
    "            'min': min_lab_values,\n",
    "            'max': max_lab_values\n",
    "        }\n",
    "    }"
   ]
  },
  {
   "cell_type": "code",
   "execution_count": 3,
   "metadata": {},
   "outputs": [],
   "source": [
    "def analyze_cluster(cluster_path):\n",
    "    rgb_values = []\n",
    "    lab_values = []\n",
    "    \n",
    "    for image_file in os.listdir(cluster_path):\n",
    "        if image_file.lower().endswith(('.png', '.jpg', '.jpeg')):\n",
    "            img_path = os.path.join(cluster_path, image_file)\n",
    "            img = cv2.imread(img_path)\n",
    "            \n",
    "            # Create mask for non-black pixels (RGB != 0,0,0)\n",
    "            non_black_mask = ~np.all(img == [0, 0, 0], axis=2)\n",
    "            \n",
    "            img_rgb = cv2.cvtColor(img, cv2.COLOR_BGR2RGB)\n",
    "            pixels_rgb = img_rgb.reshape(-1, 3)\n",
    "            non_black_mask_flat = non_black_mask.flatten()\n",
    "            \n",
    "            # Filter out black pixels\n",
    "            img_rgb_filtered = pixels_rgb[non_black_mask_flat]\n",
    "            if img_rgb_filtered.size == 0:\n",
    "                continue  # Skip this image if all pixels are black\n",
    "            \n",
    "            # Convert RGB to LAB\n",
    "            img_lab = cv2.cvtColor(img, cv2.COLOR_BGR2LAB)\n",
    "            pixels_lab = img_lab.reshape(-1, 3)\n",
    "            img_lab_filtered = pixels_lab[non_black_mask_flat]\n",
    "            \n",
    "            rgb_values.append(img_rgb_filtered)\n",
    "            lab_values.append(img_lab_filtered)\n",
    "    \n",
    "    if len(rgb_values) == 0:\n",
    "        return {\n",
    "            'rgb': {'avg': [0, 0, 0], 'min': [0, 0, 0], 'max': [0, 0, 0]},\n",
    "            'lab': {'avg': [0, 0, 0], 'min': [0, 0, 0], 'max': [0, 0, 0]}\n",
    "        }\n",
    "    \n",
    "    rgb_values = np.concatenate(rgb_values)\n",
    "    lab_values = np.concatenate(lab_values)\n",
    "    \n",
    "    return {\n",
    "        'rgb': {\n",
    "            'avg': np.mean(rgb_values, axis=0),\n",
    "            'min': np.min(rgb_values, axis=0) if len(rgb_values) > 0 else [0, 0, 0],\n",
    "            'max': np.max(rgb_values, axis=0) if len(rgb_values) > 0 else [0, 0, 0]\n",
    "        },\n",
    "        'lab': {\n",
    "            'avg': np.mean(lab_values, axis=0),\n",
    "            'min': np.min(lab_values, axis=0) if len(lab_values) > 0 else [0, 0, 0],\n",
    "            'max': np.max(lab_values, axis=0) if len(lab_values) > 0 else [0, 0, 0]\n",
    "        }\n",
    "    }"
   ]
  },
  {
   "cell_type": "code",
   "execution_count": 11,
   "metadata": {},
   "outputs": [],
   "source": [
    "def collect_statistics(clusters_root_path, analysis_type='image_avg'):\n",
    "    clusters_stats = []\n",
    "    # Iterate over each cluster directory\n",
    "    for cluster_name in os.listdir(clusters_root_path):\n",
    "        cluster_path = os.path.join(clusters_root_path, cluster_name)\n",
    "        if os.path.isdir(cluster_path):\n",
    "            print(f\"Analyzing cluster: {cluster_name}\")\n",
    "            if analysis_type == 'image_avg':\n",
    "                stats = analyze_cluster_image_first(cluster_path)\n",
    "            else:\n",
    "                stats = analyze_cluster(cluster_path)\n",
    "                \n",
    "            # Flatten the stats dictionary\n",
    "            stats_flat = {\n",
    "                'cluster_name': cluster_name,\n",
    "                'rgb_avg_r': stats['rgb']['avg'][0],\n",
    "                'rgb_avg_g': stats['rgb']['avg'][1],\n",
    "                'rgb_avg_b': stats['rgb']['avg'][2],\n",
    "                'rgb_min_r': stats['rgb']['min'][0],\n",
    "                'rgb_min_g': stats['rgb']['min'][1],\n",
    "                'rgb_min_b': stats['rgb']['min'][2],\n",
    "                'rgb_max_r': stats['rgb']['max'][0],\n",
    "                'rgb_max_g': stats['rgb']['max'][1],\n",
    "                'rgb_max_b': stats['rgb']['max'][2],\n",
    "                'lab_avg_l': stats['lab']['avg'][0],\n",
    "                'lab_avg_a': stats['lab']['avg'][1],\n",
    "                'lab_avg_b': stats['lab']['avg'][2],\n",
    "                'lab_min_l': stats['lab']['min'][0],\n",
    "                'lab_min_a': stats['lab']['min'][1],\n",
    "                'lab_min_b': stats['lab']['min'][2],\n",
    "                'lab_max_l': stats['lab']['max'][0],\n",
    "                'lab_max_a': stats['lab']['max'][1],\n",
    "                'lab_max_b': stats['lab']['max'][2],\n",
    "            }\n",
    "            clusters_stats.append(stats_flat)\n",
    "    # Convert list of dictionaries to a pandas DataFrame\n",
    "    df_stats = pd.DataFrame(clusters_stats)\n",
    "    return df_stats\n",
    "\n",
    "\n",
    "def save_statistics_to_csv(df_stats, csv_file_path):\n",
    "    df_stats.to_csv(csv_file_path, index=False)\n",
    "    \n",
    "    \n",
    "def visualize_cluster_stats(stats, cluster_name):\n",
    "    fig, (ax1, ax2) = plt.subplots(1, 2, figsize=(12, 5))\n",
    "    \n",
    "    # RGB visualization\n",
    "    rgb_data = np.array([stats['rgb']['min'], stats['rgb']['avg'], stats['rgb']['max']])\n",
    "    print(\"RGB Data before normalization:\", rgb_data)\n",
    "    rgb_data_normalized = rgb_data / 255.0  # Normalize to [0, 1]\n",
    "    rgb_data_normalized = np.clip(rgb_data_normalized, 0, 1)  # Ensure values are within [0,1]\n",
    "    ax1.imshow(rgb_data_normalized.reshape(1, -1, 3))\n",
    "    ax1.set_title(f'{cluster_name} - RGB Values')\n",
    "    ax1.set_yticks([])\n",
    "    ax1.set_xticks([0, 1, 2])\n",
    "    ax1.set_xticklabels(['Min', 'Avg', 'Max'])\n",
    "    \n",
    "    # LAB visualization\n",
    "    lab_data = np.array([stats['lab']['min'], stats['lab']['avg'], stats['lab']['max']])\n",
    "    print(\"LAB Data before conversion:\", lab_data)\n",
    "    lab_data_clipped = np.clip(lab_data, 0, 255)\n",
    "    lab_data_uint8 = lab_data_clipped.astype(np.uint8).reshape(1, -1, 3)\n",
    "    lab_data_bgr = cv2.cvtColor(lab_data_uint8, cv2.COLOR_LAB2BGR)\n",
    "    lab_data_rgb = cv2.cvtColor(lab_data_bgr, cv2.COLOR_BGR2RGB)\n",
    "    lab_data_rgb_normalized = lab_data_rgb / 255.0  # Normalize to [0, 1]\n",
    "    lab_data_rgb_normalized = np.clip(lab_data_rgb_normalized, 0, 1)\n",
    "    ax2.imshow(lab_data_rgb_normalized)\n",
    "    ax2.set_title(f'{cluster_name} - LAB Values')\n",
    "    ax2.set_yticks([])\n",
    "    ax2.set_xticks([0, 1, 2])\n",
    "    ax2.set_xticklabels(['Min', 'Avg', 'Max'])\n",
    "    \n",
    "    plt.tight_layout()\n",
    "    plt.show()\n",
    "\n",
    "\n",
    "def visualize_clusters_average_colors(df_stats):\n",
    "    # Number of clusters\n",
    "    num_clusters = len(df_stats)\n",
    "    \n",
    "    # Get the average RGB values and cluster names\n",
    "    avg_colors = df_stats[['rgb_avg_r', 'rgb_avg_g', 'rgb_avg_b']].values\n",
    "    cluster_names = df_stats['cluster_name'].tolist()\n",
    "    \n",
    "    avg_colors_normalized = avg_colors / 255.0\n",
    "    avg_colors_normalized = np.clip(avg_colors_normalized, 0, 1)\n",
    "    \n",
    "    cols = min(num_clusters, 5)\n",
    "    rows = (num_clusters + cols - 1) // cols\n",
    "    \n",
    "    # Create a figure with subplots\n",
    "    fig, axes = plt.subplots(rows, cols, figsize=(cols * 2, rows * 2))\n",
    "    \n",
    "    # Flatten axes array for easy iteration if it's 2D\n",
    "    if rows > 1:\n",
    "        axes = axes.flatten()\n",
    "    else:\n",
    "        axes = [axes] if num_clusters == 1 else axes\n",
    "    \n",
    "    for i in range(num_clusters):\n",
    "        color_patch = np.ones((10, 10, 3)) * avg_colors_normalized[i].reshape(1, 1, 3)\n",
    "        axes[i].imshow(color_patch)\n",
    "        axes[i].axis('off')\n",
    "        axes[i].set_title(cluster_names[i], fontsize=10)\n",
    "    \n",
    "    # Hide any unused subplots\n",
    "    for j in range(i + 1, len(axes)):\n",
    "        axes[j].axis('off')\n",
    "    \n",
    "    plt.tight_layout()\n",
    "    plt.show()"
   ]
  },
  {
   "cell_type": "code",
   "execution_count": 14,
   "metadata": {},
   "outputs": [
    {
     "name": "stdout",
     "output_type": "stream",
     "text": [
      "Analyzing cluster: cluster_0\n",
      "Analyzing cluster: cluster_1\n",
      "Analyzing cluster: cluster_2\n",
      "Analyzing cluster: cluster_3\n",
      "Statistics have been saved to 4_clusters_statistics_image_avg.csv\n",
      "RGB Data before normalization: [[  0.           0.           0.        ]\n",
      " [152.95164062 103.79836075  94.55675525]\n",
      " [255.         255.         255.        ]]\n",
      "LAB Data before conversion: [[  0.         113.         115.        ]\n",
      " [123.12993101 146.47340701 141.41588171]\n",
      " [255.         190.         193.        ]]\n"
     ]
    },
    {
     "data": {
      "image/png": "[encoded data removed]",
      "text/plain": [
       "<Figure size 1200x500 with 2 Axes>"
      ]
     },
     "metadata": {},
     "output_type": "display_data"
    },
    {
     "name": "stdout",
     "output_type": "stream",
     "text": [
      "RGB Data before normalization: [[  0.           0.           0.        ]\n",
      " [149.12725    120.4323815  124.44871624]\n",
      " [255.         255.         255.        ]]\n",
      "LAB Data before conversion: [[  0.         110.          98.        ]\n",
      " [134.73367636 139.86395373 130.24426393]\n",
      " [255.         185.         193.        ]]\n"
     ]
    },
    {
     "data": {
      "image/png": "[encoded data removed]",
      "text/plain": [
       "<Figure size 1200x500 with 2 Axes>"
      ]
     },
     "metadata": {},
     "output_type": "display_data"
    },
    {
     "name": "stdout",
     "output_type": "stream",
     "text": [
      "RGB Data before normalization: [[  0.           0.           0.        ]\n",
      " [167.41935764 113.76286351 119.70004119]\n",
      " [255.         255.         255.        ]]\n",
      "LAB Data before conversion: [[  0.         113.         103.        ]\n",
      " [135.28332776 149.79092572 133.62110138]\n",
      " [255.         194.         167.        ]]\n"
     ]
    },
    {
     "data": {
      "image/png": "[encoded data removed]",
      "text/plain": [
       "<Figure size 1200x500 with 2 Axes>"
      ]
     },
     "metadata": {},
     "output_type": "display_data"
    },
    {
     "name": "stdout",
     "output_type": "stream",
     "text": [
      "RGB Data before normalization: [[  0.           0.           0.        ]\n",
      " [214.99723504 126.89717965  82.97109734]\n",
      " [255.         255.         255.        ]]\n",
      "LAB Data before conversion: [[  0.         114.         109.        ]\n",
      " [157.72424913 157.90972643 166.0423362 ]\n",
      " [255.         199.         200.        ]]\n"
     ]
    },
    {
     "data": {
      "image/png": "[encoded data removed]",
      "text/plain": [
       "<Figure size 1200x500 with 2 Axes>"
      ]
     },
     "metadata": {},
     "output_type": "display_data"
    }
   ],
   "source": [
    "clusters_root_path = \"clusters/4-clusters\"\n",
    "csv_file_path = '4_clusters_statistics_image_avg.csv'\n",
    "\n",
    "df_stats = collect_statistics(clusters_root_path)\n",
    "save_statistics_to_csv(df_stats, csv_file_path)\n",
    "\n",
    "print(f\"Statistics have been saved to {csv_file_path}\")\n",
    "\n",
    "for index, row in df_stats.iterrows():\n",
    "    stats = {\n",
    "        'rgb': {\n",
    "            'avg': np.array([row['rgb_avg_r'], row['rgb_avg_g'], row['rgb_avg_b']]),\n",
    "            'min': np.array([row['rgb_min_r'], row['rgb_min_g'], row['rgb_min_b']]),\n",
    "            'max': np.array([row['rgb_max_r'], row['rgb_max_g'], row['rgb_max_b']])\n",
    "        },\n",
    "        'lab': {\n",
    "            'avg': np.array([row['lab_avg_l'], row['lab_avg_a'], row['lab_avg_b']]),\n",
    "            'min': np.array([row['lab_min_l'], row['lab_min_a'], row['lab_min_b']]),\n",
    "            'max': np.array([row['lab_max_l'], row['lab_max_a'], row['lab_max_b']])\n",
    "        }\n",
    "    }\n",
    "    visualize_cluster_stats(stats, row['cluster_name'])"
   ]
  },
  {
   "cell_type": "code",
   "execution_count": 13,
   "metadata": {},
   "outputs": [
    {
     "data": {
      "image/png": "[encoded data removed]",
      "text/plain": [
       "<Figure size 1000x200 with 5 Axes>"
      ]
     },
     "metadata": {},
     "output_type": "display_data"
    }
   ],
   "source": [
    "visualize_clusters_average_colors(df_stats)"
   ]
  },
  {
   "cell_type": "code",
   "execution_count": null,
   "metadata": {},
   "outputs": [],
   "source": []
  }
 ],
 "metadata": {
  "kernelspec": {
   "display_name": "Project",
   "language": "python",
   "name": "python3"
  },
  "language_info": {
   "codemirror_mode": {
    "name": "ipython",
    "version": 3
   },
   "file_extension": ".py",
   "mimetype": "text/x-python",
   "name": "python",
   "nbconvert_exporter": "python",
   "pygments_lexer": "ipython3",
   "version": "3.11.9"
  }
 },
 "nbformat": 4,
 "nbformat_minor": 2
}
