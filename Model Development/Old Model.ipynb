{
  "cells": [
    {
      "cell_type": "code",
      "execution_count": null,
      "metadata": {
        "colab": {
          "base_uri": "https://localhost:8080/"
        },
        "id": "eXd3Lgfye_2S",
        "outputId": "fb681c29-adb2-406e-a8be-98522c9d30c8"
      },
      "outputs": [
        {
          "name": "stdout",
          "output_type": "stream",
          "text": [
            "Requirement already satisfied: timm in /usr/local/lib/python3.10/dist-packages (1.0.9)\n",
            "Requirement already satisfied: torch in /usr/local/lib/python3.10/dist-packages (from timm) (2.4.1+cu121)\n",
            "Requirement already satisfied: torchvision in /usr/local/lib/python3.10/dist-packages (from timm) (0.19.1+cu121)\n",
            "Requirement already satisfied: pyyaml in /usr/local/lib/python3.10/dist-packages (from timm) (6.0.2)\n",
            "Requirement already satisfied: huggingface_hub in /usr/local/lib/python3.10/dist-packages (from timm) (0.24.7)\n",
            "Requirement already satisfied: safetensors in /usr/local/lib/python3.10/dist-packages (from timm) (0.4.5)\n",
            "Requirement already satisfied: filelock in /usr/local/lib/python3.10/dist-packages (from huggingface_hub->timm) (3.16.1)\n",
            "Requirement already satisfied: fsspec>=2023.5.0 in /usr/local/lib/python3.10/dist-packages (from huggingface_hub->timm) (2024.6.1)\n",
            "Requirement already satisfied: packaging>=20.9 in /usr/local/lib/python3.10/dist-packages (from huggingface_hub->timm) (24.1)\n",
            "Requirement already satisfied: requests in /usr/local/lib/python3.10/dist-packages (from huggingface_hub->timm) (2.32.3)\n",
            "Requirement already satisfied: tqdm>=4.42.1 in /usr/local/lib/python3.10/dist-packages (from huggingface_hub->timm) (4.66.5)\n",
            "Requirement already satisfied: typing-extensions>=3.7.4.3 in /usr/local/lib/python3.10/dist-packages (from huggingface_hub->timm) (4.12.2)\n",
            "Requirement already satisfied: sympy in /usr/local/lib/python3.10/dist-packages (from torch->timm) (1.13.3)\n",
            "Requirement already satisfied: networkx in /usr/local/lib/python3.10/dist-packages (from torch->timm) (3.3)\n",
            "Requirement already satisfied: jinja2 in /usr/local/lib/python3.10/dist-packages (from torch->timm) (3.1.4)\n",
            "Requirement already satisfied: numpy in /usr/local/lib/python3.10/dist-packages (from torchvision->timm) (1.26.4)\n",
            "Requirement already satisfied: pillow!=8.3.*,>=5.3.0 in /usr/local/lib/python3.10/dist-packages (from torchvision->timm) (10.4.0)\n",
            "Requirement already satisfied: MarkupSafe>=2.0 in /usr/local/lib/python3.10/dist-packages (from jinja2->torch->timm) (2.1.5)\n",
            "Requirement already satisfied: charset-normalizer<4,>=2 in /usr/local/lib/python3.10/dist-packages (from requests->huggingface_hub->timm) (3.3.2)\n",
            "Requirement already satisfied: idna<4,>=2.5 in /usr/local/lib/python3.10/dist-packages (from requests->huggingface_hub->timm) (3.10)\n",
            "Requirement already satisfied: urllib3<3,>=1.21.1 in /usr/local/lib/python3.10/dist-packages (from requests->huggingface_hub->timm) (2.2.3)\n",
            "Requirement already satisfied: certifi>=2017.4.17 in /usr/local/lib/python3.10/dist-packages (from requests->huggingface_hub->timm) (2024.8.30)\n",
            "Requirement already satisfied: mpmath<1.4,>=1.1.0 in /usr/local/lib/python3.10/dist-packages (from sympy->torch->timm) (1.3.0)\n"
          ]
        }
      ],
      "source": [
        "!pip install timm"
      ]
    },
    {
      "cell_type": "code",
      "execution_count": 1,
      "metadata": {
        "id": "ZGwlXjW_AtJA"
      },
      "outputs": [],
      "source": [
        "import numpy as np\n",
        "import pandas as pd\n",
        "import matplotlib.pyplot as plt\n",
        "from sklearn.metrics import f1_score, precision_recall_fscore_support, classification_report, confusion_matrix, ConfusionMatrixDisplay\n",
        "\n",
        "import torch\n",
        "import torch.nn as nn\n",
        "import torch.optim as optim\n",
        "import torch.nn.functional as F\n",
        "from torch.optim.lr_scheduler import ReduceLROnPlateau\n",
        "from torch.utils.data import DataLoader, Dataset, WeightedRandomSampler\n",
        "\n",
        "from torchvision import transforms\n",
        "\n",
        "import timm\n",
        "import itertools\n",
        "import os\n",
        "\n",
        "from tqdm import tqdm\n",
        "from collections import Counter\n",
        "from PIL import Image\n",
        "\n",
        "import cv2"
      ]
    },
    {
      "cell_type": "code",
      "execution_count": 2,
      "metadata": {
        "colab": {
          "base_uri": "https://localhost:8080/"
        },
        "id": "hWo-BwdxBESE",
        "outputId": "0134b399-0987-404a-fccc-de42c268cbb9"
      },
      "outputs": [
        {
          "name": "stdout",
          "output_type": "stream",
          "text": [
            "cuda\n"
          ]
        }
      ],
      "source": [
        "device = torch.device('cuda' if torch.cuda.is_available() else 'cpu')\n",
        "print(device)"
      ]
    },
    {
      "cell_type": "code",
      "execution_count": 3,
      "metadata": {
        "id": "qMtGWFNBBw4K"
      },
      "outputs": [],
      "source": [
        "train_df = pd.read_csv('dataset/train/_classes.csv', encoding='latin-1')\n",
        "val_df = pd.read_csv('dataset/valid/_classes.csv', encoding='latin-1')\n",
        "test_df = pd.read_csv('dataset/test/_classes.csv', encoding='latin-1')"
      ]
    },
    {
      "cell_type": "code",
      "execution_count": 4,
      "metadata": {
        "colab": {
          "base_uri": "https://localhost:8080/",
          "height": 206
        },
        "id": "bXntTsHpDA18",
        "outputId": "13cbd8d1-d793-44c3-e130-0219f812041c"
      },
      "outputs": [
        {
          "data": {
            "text/html": [
              "<div>\n",
              "<style scoped>\n",
              "    .dataframe tbody tr th:only-of-type {\n",
              "        vertical-align: middle;\n",
              "    }\n",
              "\n",
              "    .dataframe tbody tr th {\n",
              "        vertical-align: top;\n",
              "    }\n",
              "\n",
              "    .dataframe thead th {\n",
              "        text-align: right;\n",
              "    }\n",
              "</style>\n",
              "<table border=\"1\" class=\"dataframe\">\n",
              "  <thead>\n",
              "    <tr style=\"text-align: right;\">\n",
              "      <th></th>\n",
              "      <th>filename</th>\n",
              "      <th>Crack</th>\n",
              "      <th>Red-Dots</th>\n",
              "      <th>Toothmark</th>\n",
              "    </tr>\n",
              "  </thead>\n",
              "  <tbody>\n",
              "    <tr>\n",
              "      <th>0</th>\n",
              "      <td>CC_1251_jpg.rf.4dc355605353bc19d1a22cf28de17e0...</td>\n",
              "      <td>0</td>\n",
              "      <td>1</td>\n",
              "      <td>1</td>\n",
              "    </tr>\n",
              "    <tr>\n",
              "      <th>1</th>\n",
              "      <td>CC_860_jpg.rf.4ee00327095d74181730926dc4b72fdf...</td>\n",
              "      <td>0</td>\n",
              "      <td>1</td>\n",
              "      <td>0</td>\n",
              "    </tr>\n",
              "    <tr>\n",
              "      <th>2</th>\n",
              "      <td>CC_113_jpg.rf.4f1da59e8de8a232fb121aa39b7f4452...</td>\n",
              "      <td>0</td>\n",
              "      <td>0</td>\n",
              "      <td>1</td>\n",
              "    </tr>\n",
              "    <tr>\n",
              "      <th>3</th>\n",
              "      <td>CC_608_jpg.rf.516f965226baeeffe275612849b139c3...</td>\n",
              "      <td>0</td>\n",
              "      <td>1</td>\n",
              "      <td>1</td>\n",
              "    </tr>\n",
              "    <tr>\n",
              "      <th>4</th>\n",
              "      <td>CC_1296_jpg.rf.4ee906ad39cc9e18db27c6dc4abc965...</td>\n",
              "      <td>0</td>\n",
              "      <td>0</td>\n",
              "      <td>1</td>\n",
              "    </tr>\n",
              "  </tbody>\n",
              "</table>\n",
              "</div>"
            ],
            "text/plain": [
              "                                            filename  Crack  Red-Dots  \\\n",
              "0  CC_1251_jpg.rf.4dc355605353bc19d1a22cf28de17e0...      0         1   \n",
              "1  CC_860_jpg.rf.4ee00327095d74181730926dc4b72fdf...      0         1   \n",
              "2  CC_113_jpg.rf.4f1da59e8de8a232fb121aa39b7f4452...      0         0   \n",
              "3  CC_608_jpg.rf.516f965226baeeffe275612849b139c3...      0         1   \n",
              "4  CC_1296_jpg.rf.4ee906ad39cc9e18db27c6dc4abc965...      0         0   \n",
              "\n",
              "   Toothmark  \n",
              "0          1  \n",
              "1          0  \n",
              "2          1  \n",
              "3          1  \n",
              "4          1  "
            ]
          },
          "execution_count": 4,
          "metadata": {},
          "output_type": "execute_result"
        }
      ],
      "source": [
        "train_df.head()"
      ]
    },
    {
      "cell_type": "code",
      "execution_count": 5,
      "metadata": {
        "id": "QHXJlg66Cqs2"
      },
      "outputs": [],
      "source": [
        "classes = [\"Crack\", \"Red-Dots\", \"Toothmark\"]"
      ]
    },
    {
      "cell_type": "code",
      "execution_count": 6,
      "metadata": {
        "id": "zGais9FlEJiG"
      },
      "outputs": [],
      "source": [
        "train_labels = train_df[classes].values\n",
        "val_labels = val_df[classes].values\n",
        "test_labels = test_df[classes].values"
      ]
    },
    {
      "cell_type": "code",
      "execution_count": 7,
      "metadata": {
        "id": "Rh62qUOEEKtt"
      },
      "outputs": [],
      "source": [
        "transform = transforms.Compose([\n",
        "    transforms.Resize(384),\n",
        "    transforms.RandomHorizontalFlip(),\n",
        "    transforms.ToTensor(),\n",
        "    transforms.Normalize(mean=[0.485, 0.456, 0.406], std=[0.229, 0.224, 0.225])\n",
        "])"
      ]
    },
    {
      "cell_type": "code",
      "execution_count": 8,
      "metadata": {
        "id": "6ujn2bLaEMMA"
      },
      "outputs": [],
      "source": [
        "class CustomDataset(Dataset):\n",
        "    def __init__(self, img_dir, img_names, labels, transform=None):\n",
        "        self.img_dir = img_dir\n",
        "        self.labels = labels\n",
        "        self.transform = transform\n",
        "        self.img_names = img_names\n",
        "\n",
        "    def __len__(self):\n",
        "        return len(self.img_names)\n",
        "\n",
        "    def __getitem__(self, idx):\n",
        "        img_name = self.img_names[idx]\n",
        "        img_path = os.path.join(self.img_dir, img_name)\n",
        "        image = Image.open(img_path).convert('RGB')\n",
        "        label = self.labels[idx]\n",
        "\n",
        "        if self.transform:\n",
        "          image = self.transform(image)\n",
        "\n",
        "        return image, torch.tensor(label, dtype=torch.float32)"
      ]
    },
    {
      "cell_type": "code",
      "execution_count": 9,
      "metadata": {
        "id": "XSTaGLM4EWyL"
      },
      "outputs": [],
      "source": [
        "train_folder_path = 'dataset/train'\n",
        "train_image_files = os.listdir(train_folder_path)\n",
        "train_image_files = [file for file in train_image_files if file.endswith('.jpg')]\n",
        "\n",
        "val_folder_path = 'dataset/valid'\n",
        "val_image_files = os.listdir(val_folder_path)\n",
        "val_image_files = [file for file in val_image_files if file.endswith('.jpg')]\n",
        "\n",
        "test_folder_path = 'dataset/test'\n",
        "test_image_files = os.listdir(test_folder_path)\n",
        "test_image_files = [file for file in test_image_files if file.endswith('.jpg')]"
      ]
    },
    {
      "cell_type": "code",
      "execution_count": 10,
      "metadata": {
        "colab": {
          "base_uri": "https://localhost:8080/"
        },
        "id": "T5kGvBNSEflX",
        "outputId": "1da4d640-0dbe-4e3f-a8cc-44d9426f4158"
      },
      "outputs": [
        {
          "name": "stdout",
          "output_type": "stream",
          "text": [
            "1288\n",
            "1288\n"
          ]
        }
      ],
      "source": [
        "print(len(train_image_files))\n",
        "print(len(train_labels))"
      ]
    },
    {
      "cell_type": "code",
      "execution_count": 11,
      "metadata": {
        "colab": {
          "base_uri": "https://localhost:8080/"
        },
        "id": "WuYATEREEhMH",
        "outputId": "80865b3c-6556-4a4f-accd-a969ef7f0d29"
      },
      "outputs": [
        {
          "name": "stdout",
          "output_type": "stream",
          "text": [
            "True\n",
            "True\n",
            "True\n"
          ]
        }
      ],
      "source": [
        "print(len(train_image_files) == len(train_labels))\n",
        "print(len(val_image_files) == len(val_labels))\n",
        "print(len(test_image_files) == len(test_labels))"
      ]
    },
    {
      "cell_type": "code",
      "execution_count": 12,
      "metadata": {
        "id": "1AO1-3WAEjRe"
      },
      "outputs": [],
      "source": [
        "train_dataset = CustomDataset(img_dir=train_folder_path, img_names=train_image_files, labels=train_labels, transform=transform)\n",
        "train_dataloader = DataLoader(train_dataset, batch_size=16)"
      ]
    },
    {
      "cell_type": "code",
      "execution_count": 13,
      "metadata": {
        "id": "ImgXl_X0Ekza"
      },
      "outputs": [],
      "source": [
        "val_dataset = CustomDataset(img_dir=val_folder_path, img_names=val_image_files, labels=val_labels, transform=transform)\n",
        "val_dataloader = DataLoader(val_dataset, batch_size=16)"
      ]
    },
    {
      "cell_type": "code",
      "execution_count": 14,
      "metadata": {
        "id": "qt4uYz0kEl-6"
      },
      "outputs": [],
      "source": [
        "test_dataset = CustomDataset(img_dir=test_folder_path, img_names=test_image_files, labels=test_labels, transform=transform)\n",
        "test_dataloader = DataLoader(test_dataset, batch_size=16)"
      ]
    },
    {
      "cell_type": "code",
      "execution_count": 15,
      "metadata": {
        "colab": {
          "base_uri": "https://localhost:8080/"
        },
        "id": "p5Rv_42SYJxA",
        "outputId": "8aaaeb95-6a35-4306-db46-3f60285f1256"
      },
      "outputs": [
        {
          "name": "stdout",
          "output_type": "stream",
          "text": [
            "torch.Size([3, 384, 384]) torch.Size([3])\n"
          ]
        }
      ],
      "source": [
        "print(train_dataset[0][0].shape, train_dataset[0][1].shape)"
      ]
    },
    {
      "cell_type": "code",
      "execution_count": 16,
      "metadata": {
        "colab": {
          "base_uri": "https://localhost:8080/"
        },
        "id": "gWtHc5Jto1Sl",
        "outputId": "75372cbb-5e88-4c31-ce55-d6fcfd63d4e8"
      },
      "outputs": [
        {
          "name": "stdout",
          "output_type": "stream",
          "text": [
            "torch.Size([16, 3, 384, 384]) torch.Size([16, 3])\n"
          ]
        }
      ],
      "source": [
        "batch = next(iter(train_dataloader))\n",
        "print(batch[0].shape, batch[1].shape)"
      ]
    },
    {
      "cell_type": "markdown",
      "metadata": {
        "id": "o2IX2tAQEtEe"
      },
      "source": [
        "# Model Training"
      ]
    },
    {
      "cell_type": "code",
      "execution_count": 17,
      "metadata": {
        "id": "PEyWhHQbEnbH"
      },
      "outputs": [],
      "source": [
        "num_classes = len(train_labels[0])"
      ]
    },
    {
      "cell_type": "code",
      "execution_count": 18,
      "metadata": {
        "colab": {
          "base_uri": "https://localhost:8080/"
        },
        "id": "ezs9UOGM94Bl",
        "outputId": "e7728d56-fa5f-464a-a0b1-7bcb1646a3c4"
      },
      "outputs": [
        {
          "data": {
            "text/plain": [
              "VisionTransformer(\n",
              "  (patch_embed): PatchEmbed(\n",
              "    (proj): Conv2d(3, 768, kernel_size=(16, 16), stride=(16, 16))\n",
              "    (norm): Identity()\n",
              "  )\n",
              "  (pos_drop): Dropout(p=0.0, inplace=False)\n",
              "  (patch_drop): Identity()\n",
              "  (norm_pre): Identity()\n",
              "  (blocks): Sequential(\n",
              "    (0): Block(\n",
              "      (norm1): LayerNorm((768,), eps=1e-06, elementwise_affine=True)\n",
              "      (attn): Attention(\n",
              "        (qkv): Linear(in_features=768, out_features=2304, bias=True)\n",
              "        (q_norm): Identity()\n",
              "        (k_norm): Identity()\n",
              "        (attn_drop): Dropout(p=0.0, inplace=False)\n",
              "        (proj): Linear(in_features=768, out_features=768, bias=True)\n",
              "        (proj_drop): Dropout(p=0.0, inplace=False)\n",
              "      )\n",
              "      (ls1): LayerScale()\n",
              "      (drop_path1): Identity()\n",
              "      (norm2): LayerNorm((768,), eps=1e-06, elementwise_affine=True)\n",
              "      (mlp): Mlp(\n",
              "        (fc1): Linear(in_features=768, out_features=3072, bias=True)\n",
              "        (act): GELU(approximate='none')\n",
              "        (drop1): Dropout(p=0.0, inplace=False)\n",
              "        (norm): Identity()\n",
              "        (fc2): Linear(in_features=3072, out_features=768, bias=True)\n",
              "        (drop2): Dropout(p=0.0, inplace=False)\n",
              "      )\n",
              "      (ls2): LayerScale()\n",
              "      (drop_path2): Identity()\n",
              "    )\n",
              "    (1): Block(\n",
              "      (norm1): LayerNorm((768,), eps=1e-06, elementwise_affine=True)\n",
              "      (attn): Attention(\n",
              "        (qkv): Linear(in_features=768, out_features=2304, bias=True)\n",
              "        (q_norm): Identity()\n",
              "        (k_norm): Identity()\n",
              "        (attn_drop): Dropout(p=0.0, inplace=False)\n",
              "        (proj): Linear(in_features=768, out_features=768, bias=True)\n",
              "        (proj_drop): Dropout(p=0.0, inplace=False)\n",
              "      )\n",
              "      (ls1): LayerScale()\n",
              "      (drop_path1): Identity()\n",
              "      (norm2): LayerNorm((768,), eps=1e-06, elementwise_affine=True)\n",
              "      (mlp): Mlp(\n",
              "        (fc1): Linear(in_features=768, out_features=3072, bias=True)\n",
              "        (act): GELU(approximate='none')\n",
              "        (drop1): Dropout(p=0.0, inplace=False)\n",
              "        (norm): Identity()\n",
              "        (fc2): Linear(in_features=3072, out_features=768, bias=True)\n",
              "        (drop2): Dropout(p=0.0, inplace=False)\n",
              "      )\n",
              "      (ls2): LayerScale()\n",
              "      (drop_path2): Identity()\n",
              "    )\n",
              "    (2): Block(\n",
              "      (norm1): LayerNorm((768,), eps=1e-06, elementwise_affine=True)\n",
              "      (attn): Attention(\n",
              "        (qkv): Linear(in_features=768, out_features=2304, bias=True)\n",
              "        (q_norm): Identity()\n",
              "        (k_norm): Identity()\n",
              "        (attn_drop): Dropout(p=0.0, inplace=False)\n",
              "        (proj): Linear(in_features=768, out_features=768, bias=True)\n",
              "        (proj_drop): Dropout(p=0.0, inplace=False)\n",
              "      )\n",
              "      (ls1): LayerScale()\n",
              "      (drop_path1): Identity()\n",
              "      (norm2): LayerNorm((768,), eps=1e-06, elementwise_affine=True)\n",
              "      (mlp): Mlp(\n",
              "        (fc1): Linear(in_features=768, out_features=3072, bias=True)\n",
              "        (act): GELU(approximate='none')\n",
              "        (drop1): Dropout(p=0.0, inplace=False)\n",
              "        (norm): Identity()\n",
              "        (fc2): Linear(in_features=3072, out_features=768, bias=True)\n",
              "        (drop2): Dropout(p=0.0, inplace=False)\n",
              "      )\n",
              "      (ls2): LayerScale()\n",
              "      (drop_path2): Identity()\n",
              "    )\n",
              "    (3): Block(\n",
              "      (norm1): LayerNorm((768,), eps=1e-06, elementwise_affine=True)\n",
              "      (attn): Attention(\n",
              "        (qkv): Linear(in_features=768, out_features=2304, bias=True)\n",
              "        (q_norm): Identity()\n",
              "        (k_norm): Identity()\n",
              "        (attn_drop): Dropout(p=0.0, inplace=False)\n",
              "        (proj): Linear(in_features=768, out_features=768, bias=True)\n",
              "        (proj_drop): Dropout(p=0.0, inplace=False)\n",
              "      )\n",
              "      (ls1): LayerScale()\n",
              "      (drop_path1): Identity()\n",
              "      (norm2): LayerNorm((768,), eps=1e-06, elementwise_affine=True)\n",
              "      (mlp): Mlp(\n",
              "        (fc1): Linear(in_features=768, out_features=3072, bias=True)\n",
              "        (act): GELU(approximate='none')\n",
              "        (drop1): Dropout(p=0.0, inplace=False)\n",
              "        (norm): Identity()\n",
              "        (fc2): Linear(in_features=3072, out_features=768, bias=True)\n",
              "        (drop2): Dropout(p=0.0, inplace=False)\n",
              "      )\n",
              "      (ls2): LayerScale()\n",
              "      (drop_path2): Identity()\n",
              "    )\n",
              "    (4): Block(\n",
              "      (norm1): LayerNorm((768,), eps=1e-06, elementwise_affine=True)\n",
              "      (attn): Attention(\n",
              "        (qkv): Linear(in_features=768, out_features=2304, bias=True)\n",
              "        (q_norm): Identity()\n",
              "        (k_norm): Identity()\n",
              "        (attn_drop): Dropout(p=0.0, inplace=False)\n",
              "        (proj): Linear(in_features=768, out_features=768, bias=True)\n",
              "        (proj_drop): Dropout(p=0.0, inplace=False)\n",
              "      )\n",
              "      (ls1): LayerScale()\n",
              "      (drop_path1): Identity()\n",
              "      (norm2): LayerNorm((768,), eps=1e-06, elementwise_affine=True)\n",
              "      (mlp): Mlp(\n",
              "        (fc1): Linear(in_features=768, out_features=3072, bias=True)\n",
              "        (act): GELU(approximate='none')\n",
              "        (drop1): Dropout(p=0.0, inplace=False)\n",
              "        (norm): Identity()\n",
              "        (fc2): Linear(in_features=3072, out_features=768, bias=True)\n",
              "        (drop2): Dropout(p=0.0, inplace=False)\n",
              "      )\n",
              "      (ls2): LayerScale()\n",
              "      (drop_path2): Identity()\n",
              "    )\n",
              "    (5): Block(\n",
              "      (norm1): LayerNorm((768,), eps=1e-06, elementwise_affine=True)\n",
              "      (attn): Attention(\n",
              "        (qkv): Linear(in_features=768, out_features=2304, bias=True)\n",
              "        (q_norm): Identity()\n",
              "        (k_norm): Identity()\n",
              "        (attn_drop): Dropout(p=0.0, inplace=False)\n",
              "        (proj): Linear(in_features=768, out_features=768, bias=True)\n",
              "        (proj_drop): Dropout(p=0.0, inplace=False)\n",
              "      )\n",
              "      (ls1): LayerScale()\n",
              "      (drop_path1): Identity()\n",
              "      (norm2): LayerNorm((768,), eps=1e-06, elementwise_affine=True)\n",
              "      (mlp): Mlp(\n",
              "        (fc1): Linear(in_features=768, out_features=3072, bias=True)\n",
              "        (act): GELU(approximate='none')\n",
              "        (drop1): Dropout(p=0.0, inplace=False)\n",
              "        (norm): Identity()\n",
              "        (fc2): Linear(in_features=3072, out_features=768, bias=True)\n",
              "        (drop2): Dropout(p=0.0, inplace=False)\n",
              "      )\n",
              "      (ls2): LayerScale()\n",
              "      (drop_path2): Identity()\n",
              "    )\n",
              "    (6): Block(\n",
              "      (norm1): LayerNorm((768,), eps=1e-06, elementwise_affine=True)\n",
              "      (attn): Attention(\n",
              "        (qkv): Linear(in_features=768, out_features=2304, bias=True)\n",
              "        (q_norm): Identity()\n",
              "        (k_norm): Identity()\n",
              "        (attn_drop): Dropout(p=0.0, inplace=False)\n",
              "        (proj): Linear(in_features=768, out_features=768, bias=True)\n",
              "        (proj_drop): Dropout(p=0.0, inplace=False)\n",
              "      )\n",
              "      (ls1): LayerScale()\n",
              "      (drop_path1): Identity()\n",
              "      (norm2): LayerNorm((768,), eps=1e-06, elementwise_affine=True)\n",
              "      (mlp): Mlp(\n",
              "        (fc1): Linear(in_features=768, out_features=3072, bias=True)\n",
              "        (act): GELU(approximate='none')\n",
              "        (drop1): Dropout(p=0.0, inplace=False)\n",
              "        (norm): Identity()\n",
              "        (fc2): Linear(in_features=3072, out_features=768, bias=True)\n",
              "        (drop2): Dropout(p=0.0, inplace=False)\n",
              "      )\n",
              "      (ls2): LayerScale()\n",
              "      (drop_path2): Identity()\n",
              "    )\n",
              "    (7): Block(\n",
              "      (norm1): LayerNorm((768,), eps=1e-06, elementwise_affine=True)\n",
              "      (attn): Attention(\n",
              "        (qkv): Linear(in_features=768, out_features=2304, bias=True)\n",
              "        (q_norm): Identity()\n",
              "        (k_norm): Identity()\n",
              "        (attn_drop): Dropout(p=0.0, inplace=False)\n",
              "        (proj): Linear(in_features=768, out_features=768, bias=True)\n",
              "        (proj_drop): Dropout(p=0.0, inplace=False)\n",
              "      )\n",
              "      (ls1): LayerScale()\n",
              "      (drop_path1): Identity()\n",
              "      (norm2): LayerNorm((768,), eps=1e-06, elementwise_affine=True)\n",
              "      (mlp): Mlp(\n",
              "        (fc1): Linear(in_features=768, out_features=3072, bias=True)\n",
              "        (act): GELU(approximate='none')\n",
              "        (drop1): Dropout(p=0.0, inplace=False)\n",
              "        (norm): Identity()\n",
              "        (fc2): Linear(in_features=3072, out_features=768, bias=True)\n",
              "        (drop2): Dropout(p=0.0, inplace=False)\n",
              "      )\n",
              "      (ls2): LayerScale()\n",
              "      (drop_path2): Identity()\n",
              "    )\n",
              "    (8): Block(\n",
              "      (norm1): LayerNorm((768,), eps=1e-06, elementwise_affine=True)\n",
              "      (attn): Attention(\n",
              "        (qkv): Linear(in_features=768, out_features=2304, bias=True)\n",
              "        (q_norm): Identity()\n",
              "        (k_norm): Identity()\n",
              "        (attn_drop): Dropout(p=0.0, inplace=False)\n",
              "        (proj): Linear(in_features=768, out_features=768, bias=True)\n",
              "        (proj_drop): Dropout(p=0.0, inplace=False)\n",
              "      )\n",
              "      (ls1): LayerScale()\n",
              "      (drop_path1): Identity()\n",
              "      (norm2): LayerNorm((768,), eps=1e-06, elementwise_affine=True)\n",
              "      (mlp): Mlp(\n",
              "        (fc1): Linear(in_features=768, out_features=3072, bias=True)\n",
              "        (act): GELU(approximate='none')\n",
              "        (drop1): Dropout(p=0.0, inplace=False)\n",
              "        (norm): Identity()\n",
              "        (fc2): Linear(in_features=3072, out_features=768, bias=True)\n",
              "        (drop2): Dropout(p=0.0, inplace=False)\n",
              "      )\n",
              "      (ls2): LayerScale()\n",
              "      (drop_path2): Identity()\n",
              "    )\n",
              "    (9): Block(\n",
              "      (norm1): LayerNorm((768,), eps=1e-06, elementwise_affine=True)\n",
              "      (attn): Attention(\n",
              "        (qkv): Linear(in_features=768, out_features=2304, bias=True)\n",
              "        (q_norm): Identity()\n",
              "        (k_norm): Identity()\n",
              "        (attn_drop): Dropout(p=0.0, inplace=False)\n",
              "        (proj): Linear(in_features=768, out_features=768, bias=True)\n",
              "        (proj_drop): Dropout(p=0.0, inplace=False)\n",
              "      )\n",
              "      (ls1): LayerScale()\n",
              "      (drop_path1): Identity()\n",
              "      (norm2): LayerNorm((768,), eps=1e-06, elementwise_affine=True)\n",
              "      (mlp): Mlp(\n",
              "        (fc1): Linear(in_features=768, out_features=3072, bias=True)\n",
              "        (act): GELU(approximate='none')\n",
              "        (drop1): Dropout(p=0.0, inplace=False)\n",
              "        (norm): Identity()\n",
              "        (fc2): Linear(in_features=3072, out_features=768, bias=True)\n",
              "        (drop2): Dropout(p=0.0, inplace=False)\n",
              "      )\n",
              "      (ls2): LayerScale()\n",
              "      (drop_path2): Identity()\n",
              "    )\n",
              "    (10): Block(\n",
              "      (norm1): LayerNorm((768,), eps=1e-06, elementwise_affine=True)\n",
              "      (attn): Attention(\n",
              "        (qkv): Linear(in_features=768, out_features=2304, bias=True)\n",
              "        (q_norm): Identity()\n",
              "        (k_norm): Identity()\n",
              "        (attn_drop): Dropout(p=0.0, inplace=False)\n",
              "        (proj): Linear(in_features=768, out_features=768, bias=True)\n",
              "        (proj_drop): Dropout(p=0.0, inplace=False)\n",
              "      )\n",
              "      (ls1): LayerScale()\n",
              "      (drop_path1): Identity()\n",
              "      (norm2): LayerNorm((768,), eps=1e-06, elementwise_affine=True)\n",
              "      (mlp): Mlp(\n",
              "        (fc1): Linear(in_features=768, out_features=3072, bias=True)\n",
              "        (act): GELU(approximate='none')\n",
              "        (drop1): Dropout(p=0.0, inplace=False)\n",
              "        (norm): Identity()\n",
              "        (fc2): Linear(in_features=3072, out_features=768, bias=True)\n",
              "        (drop2): Dropout(p=0.0, inplace=False)\n",
              "      )\n",
              "      (ls2): LayerScale()\n",
              "      (drop_path2): Identity()\n",
              "    )\n",
              "    (11): Block(\n",
              "      (norm1): LayerNorm((768,), eps=1e-06, elementwise_affine=True)\n",
              "      (attn): Attention(\n",
              "        (qkv): Linear(in_features=768, out_features=2304, bias=True)\n",
              "        (q_norm): Identity()\n",
              "        (k_norm): Identity()\n",
              "        (attn_drop): Dropout(p=0.0, inplace=False)\n",
              "        (proj): Linear(in_features=768, out_features=768, bias=True)\n",
              "        (proj_drop): Dropout(p=0.0, inplace=False)\n",
              "      )\n",
              "      (ls1): LayerScale()\n",
              "      (drop_path1): Identity()\n",
              "      (norm2): LayerNorm((768,), eps=1e-06, elementwise_affine=True)\n",
              "      (mlp): Mlp(\n",
              "        (fc1): Linear(in_features=768, out_features=3072, bias=True)\n",
              "        (act): GELU(approximate='none')\n",
              "        (drop1): Dropout(p=0.0, inplace=False)\n",
              "        (norm): Identity()\n",
              "        (fc2): Linear(in_features=3072, out_features=768, bias=True)\n",
              "        (drop2): Dropout(p=0.0, inplace=False)\n",
              "      )\n",
              "      (ls2): LayerScale()\n",
              "      (drop_path2): Identity()\n",
              "    )\n",
              "  )\n",
              "  (norm): LayerNorm((768,), eps=1e-06, elementwise_affine=True)\n",
              "  (fc_norm): Identity()\n",
              "  (head_drop): Dropout(p=0.0, inplace=False)\n",
              "  (head): Identity()\n",
              ")"
            ]
          },
          "execution_count": 18,
          "metadata": {},
          "output_type": "execute_result"
        }
      ],
      "source": [
        "temp = timm.create_model('deit3_base_patch16_384.fb_in22k_ft_in1k', pretrained=True, num_classes=0, global_pool='')\n",
        "temp"
      ]
    },
    {
      "cell_type": "code",
      "execution_count": 19,
      "metadata": {
        "id": "M_f_XCOw8B-k"
      },
      "outputs": [],
      "source": [
        "class MultiOutputModel(nn.Module):\n",
        "    def __init__(self, n_crack_classes, n_reddot_classes, n_toothmark_classes):\n",
        "        super(MultiOutputModel, self).__init__()\n",
        "        self.base_model = timm.create_model(\n",
        "            'deit3_base_patch16_384.fb_in22k_ft_in1k',\n",
        "            pretrained=True,\n",
        "            num_classes=0,\n",
        "            global_pool=''\n",
        "        )\n",
        "        self.last_channel = 768  # Updated to match embedding size\n",
        "        self.norm = nn.LayerNorm(self.last_channel)\n",
        "        self.classifier_crack = nn.Linear(self.last_channel, n_crack_classes)\n",
        "        self.classifier_reddot = nn.Linear(self.last_channel, n_reddot_classes)\n",
        "        self.classifier_toothmark = nn.Linear(self.last_channel, n_toothmark_classes)\n",
        "\n",
        "    def forward(self, x):\n",
        "        features = self.base_model(x)  # Shape: (batch_size, seq_len, embed_dim)\n",
        "        features = self.norm(features)\n",
        "        cls_token = features[:, 0, :]  # Use the [CLS] token\n",
        "        return {\n",
        "            'crack': self.classifier_crack(cls_token),\n",
        "            'red_dots': self.classifier_reddot(cls_token),\n",
        "            'toothmark': self.classifier_toothmark(cls_token)\n",
        "        }\n",
        "\n",
        "    def get_loss(self, outputs, labels):\n",
        "        # Ensure labels are the correct shape\n",
        "        crack_labels = labels[:, 0].unsqueeze(1).float()\n",
        "        red_dots_labels = labels[:, 1].unsqueeze(1).float()\n",
        "        toothmark_labels = labels[:, 2].unsqueeze(1).float()\n",
        "\n",
        "        crack_loss = nn.BCEWithLogitsLoss()(outputs['crack'], crack_labels)\n",
        "        red_dots_loss = nn.BCEWithLogitsLoss()(outputs['red_dots'], red_dots_labels)\n",
        "        toothmark_loss = nn.BCEWithLogitsLoss()(outputs['toothmark'], toothmark_labels)\n",
        "\n",
        "        total_loss = crack_loss + red_dots_loss + toothmark_loss\n",
        "        return total_loss, {\n",
        "            'crack': crack_loss,\n",
        "            'red_dots': red_dots_loss,\n",
        "            'toothmark': toothmark_loss\n",
        "        }"
      ]
    },
    {
      "cell_type": "code",
      "execution_count": 20,
      "metadata": {
        "id": "sObAksEC9ECx"
      },
      "outputs": [],
      "source": [
        "model = MultiOutputModel(n_crack_classes=1, n_reddot_classes=1, n_toothmark_classes=1)"
      ]
    },
    {
      "cell_type": "code",
      "execution_count": 21,
      "metadata": {
        "id": "9Dx3nFXwVK_F"
      },
      "outputs": [],
      "source": [
        "device = torch.device(\"cuda:0\" if torch.cuda.is_available() else \"cpu\")\n",
        "model = model.to(device)"
      ]
    },
    {
      "cell_type": "code",
      "execution_count": 22,
      "metadata": {
        "id": "KXO08GmexC13"
      },
      "outputs": [],
      "source": [
        "# for images, labels in train_dataloader:\n",
        "#     images = images.to(device)\n",
        "#     labels = labels.to(device)\n",
        "#     outputs = model(images)\n",
        "#     print(outputs)\n",
        "#     print(labels)\n",
        "#     break"
      ]
    },
    {
      "cell_type": "code",
      "execution_count": 25,
      "metadata": {
        "colab": {
          "base_uri": "https://localhost:8080/"
        },
        "id": "D4nd_z9NE-xP",
        "outputId": "edff1636-b4b9-4bb8-ea62-0074e3001008"
      },
      "outputs": [
        {
          "name": "stdout",
          "output_type": "stream",
          "text": [
            "Epoch 1/10\n"
          ]
        },
        {
          "name": "stderr",
          "output_type": "stream",
          "text": [
            "Training: 100%|██████████| 81/81 [00:49<00:00,  1.63it/s]\n"
          ]
        },
        {
          "name": "stdout",
          "output_type": "stream",
          "text": [
            "Training Loss: 2.0424\n"
          ]
        },
        {
          "name": "stderr",
          "output_type": "stream",
          "text": [
            "Validation: 100%|██████████| 13/13 [00:04<00:00,  2.86it/s]\n"
          ]
        },
        {
          "name": "stdout",
          "output_type": "stream",
          "text": [
            "Validation Loss: 2.0483\n",
            "Epoch 2/10\n"
          ]
        },
        {
          "name": "stderr",
          "output_type": "stream",
          "text": [
            "Training: 100%|██████████| 81/81 [00:44<00:00,  1.83it/s]\n"
          ]
        },
        {
          "name": "stdout",
          "output_type": "stream",
          "text": [
            "Training Loss: 2.0096\n"
          ]
        },
        {
          "name": "stderr",
          "output_type": "stream",
          "text": [
            "Validation: 100%|██████████| 13/13 [00:03<00:00,  3.37it/s]\n"
          ]
        },
        {
          "name": "stdout",
          "output_type": "stream",
          "text": [
            "Validation Loss: 1.9942\n",
            "Epoch 3/10\n"
          ]
        },
        {
          "name": "stderr",
          "output_type": "stream",
          "text": [
            "Training: 100%|██████████| 81/81 [00:47<00:00,  1.69it/s]\n"
          ]
        },
        {
          "name": "stdout",
          "output_type": "stream",
          "text": [
            "Training Loss: 1.9994\n"
          ]
        },
        {
          "name": "stderr",
          "output_type": "stream",
          "text": [
            "Validation: 100%|██████████| 13/13 [00:03<00:00,  3.45it/s]\n"
          ]
        },
        {
          "name": "stdout",
          "output_type": "stream",
          "text": [
            "Validation Loss: 1.9962\n",
            "Epoch 4/10\n"
          ]
        },
        {
          "name": "stderr",
          "output_type": "stream",
          "text": [
            "Training: 100%|██████████| 81/81 [00:42<00:00,  1.93it/s]\n"
          ]
        },
        {
          "name": "stdout",
          "output_type": "stream",
          "text": [
            "Training Loss: 2.0003\n"
          ]
        },
        {
          "name": "stderr",
          "output_type": "stream",
          "text": [
            "Validation: 100%|██████████| 13/13 [00:03<00:00,  4.21it/s]\n"
          ]
        },
        {
          "name": "stdout",
          "output_type": "stream",
          "text": [
            "Validation Loss: 2.0171\n",
            "Epoch 5/10\n"
          ]
        },
        {
          "name": "stderr",
          "output_type": "stream",
          "text": [
            "Training: 100%|██████████| 81/81 [00:42<00:00,  1.93it/s]\n"
          ]
        },
        {
          "name": "stdout",
          "output_type": "stream",
          "text": [
            "Training Loss: 2.0159\n"
          ]
        },
        {
          "name": "stderr",
          "output_type": "stream",
          "text": [
            "Validation: 100%|██████████| 13/13 [00:03<00:00,  4.23it/s]\n"
          ]
        },
        {
          "name": "stdout",
          "output_type": "stream",
          "text": [
            "Validation Loss: 2.0360\n",
            "Epoch 6/10\n"
          ]
        },
        {
          "name": "stderr",
          "output_type": "stream",
          "text": [
            "Training: 100%|██████████| 81/81 [00:42<00:00,  1.92it/s]\n"
          ]
        },
        {
          "name": "stdout",
          "output_type": "stream",
          "text": [
            "Training Loss: 2.0203\n"
          ]
        },
        {
          "name": "stderr",
          "output_type": "stream",
          "text": [
            "Validation: 100%|██████████| 13/13 [00:03<00:00,  4.21it/s]\n"
          ]
        },
        {
          "name": "stdout",
          "output_type": "stream",
          "text": [
            "Validation Loss: 2.0416\n",
            "Epoch 7/10\n"
          ]
        },
        {
          "name": "stderr",
          "output_type": "stream",
          "text": [
            "Training: 100%|██████████| 81/81 [00:42<00:00,  1.92it/s]\n"
          ]
        },
        {
          "name": "stdout",
          "output_type": "stream",
          "text": [
            "Training Loss: 2.0097\n"
          ]
        },
        {
          "name": "stderr",
          "output_type": "stream",
          "text": [
            "Validation: 100%|██████████| 13/13 [00:03<00:00,  4.12it/s]\n"
          ]
        },
        {
          "name": "stdout",
          "output_type": "stream",
          "text": [
            "Validation Loss: 2.0092\n",
            "Epoch 8/10\n"
          ]
        },
        {
          "name": "stderr",
          "output_type": "stream",
          "text": [
            "Training: 100%|██████████| 81/81 [00:42<00:00,  1.91it/s]\n"
          ]
        },
        {
          "name": "stdout",
          "output_type": "stream",
          "text": [
            "Training Loss: 2.0005\n"
          ]
        },
        {
          "name": "stderr",
          "output_type": "stream",
          "text": [
            "Validation: 100%|██████████| 13/13 [00:03<00:00,  4.08it/s]\n"
          ]
        },
        {
          "name": "stdout",
          "output_type": "stream",
          "text": [
            "Validation Loss: 1.9963\n",
            "Epoch 9/10\n"
          ]
        },
        {
          "name": "stderr",
          "output_type": "stream",
          "text": [
            "Training: 100%|██████████| 81/81 [00:42<00:00,  1.91it/s]\n"
          ]
        },
        {
          "name": "stdout",
          "output_type": "stream",
          "text": [
            "Training Loss: 1.9981\n"
          ]
        },
        {
          "name": "stderr",
          "output_type": "stream",
          "text": [
            "Validation: 100%|██████████| 13/13 [00:03<00:00,  4.13it/s]\n"
          ]
        },
        {
          "name": "stdout",
          "output_type": "stream",
          "text": [
            "Validation Loss: 1.9937\n",
            "Epoch 10/10\n"
          ]
        },
        {
          "name": "stderr",
          "output_type": "stream",
          "text": [
            "Training: 100%|██████████| 81/81 [00:42<00:00,  1.92it/s]\n"
          ]
        },
        {
          "name": "stdout",
          "output_type": "stream",
          "text": [
            "Training Loss: 1.9978\n"
          ]
        },
        {
          "name": "stderr",
          "output_type": "stream",
          "text": [
            "Validation: 100%|██████████| 13/13 [00:03<00:00,  4.11it/s]"
          ]
        },
        {
          "name": "stdout",
          "output_type": "stream",
          "text": [
            "Validation Loss: 1.9907\n"
          ]
        },
        {
          "name": "stderr",
          "output_type": "stream",
          "text": [
            "\n"
          ]
        }
      ],
      "source": [
        "criterion = nn.BCEWithLogitsLoss()\n",
        "optimizer = optim.Adam(model.parameters(), lr=0.01)\n",
        "\n",
        "num_epochs = 10\n",
        "for epoch in range(num_epochs):\n",
        "    print(f'Epoch {epoch+1}/{num_epochs}')\n",
        "\n",
        "    # Training phase\n",
        "    model.train()\n",
        "    running_loss = 0.0\n",
        "\n",
        "    for images, labels in tqdm(train_dataloader, desc='Training'):\n",
        "        images = images.to(device)\n",
        "        labels = labels.to(device)\n",
        "\n",
        "        optimizer.zero_grad()\n",
        "\n",
        "        outputs = model(images)\n",
        "\n",
        "        # Extract labels for each task and ensure correct shape and type\n",
        "        crack_labels = labels[:, 0].unsqueeze(1).float()\n",
        "        red_dots_labels = labels[:, 1].unsqueeze(1).float()\n",
        "        toothmark_labels = labels[:, 2].unsqueeze(1).float()\n",
        "\n",
        "        # Compute loss for each output\n",
        "        loss_crack = criterion(outputs['crack'], crack_labels)\n",
        "        loss_reddot = criterion(outputs['red_dots'], red_dots_labels)\n",
        "        loss_toothmark = criterion(outputs['toothmark'], toothmark_labels)\n",
        "\n",
        "        # Combine losses\n",
        "        loss = loss_crack + loss_reddot + loss_toothmark\n",
        "\n",
        "        loss.backward()\n",
        "        optimizer.step()\n",
        "\n",
        "        running_loss += loss.item()\n",
        "\n",
        "    epoch_loss = running_loss / len(train_dataloader)\n",
        "    print(f'Training Loss: {epoch_loss:.4f}')\n",
        "\n",
        "    # Validation phase\n",
        "    model.eval()\n",
        "    val_loss = 0.0\n",
        "\n",
        "    with torch.no_grad():\n",
        "        for images, labels in tqdm(val_dataloader, desc='Validation'):\n",
        "            images = images.to(device)\n",
        "            labels = labels.to(device)\n",
        "\n",
        "            outputs = model(images)\n",
        "\n",
        "            # Extract labels for each task and ensure correct shape and type\n",
        "            crack_labels = labels[:, 0].unsqueeze(1).float()\n",
        "            red_dots_labels = labels[:, 1].unsqueeze(1).float()\n",
        "            toothmark_labels = labels[:, 2].unsqueeze(1).float()\n",
        "\n",
        "            # Compute loss for each output\n",
        "            loss_crack = criterion(outputs['crack'], crack_labels)\n",
        "            loss_reddot = criterion(outputs['red_dots'], red_dots_labels)\n",
        "            loss_toothmark = criterion(outputs['toothmark'], toothmark_labels)\n",
        "\n",
        "            # Combine losses\n",
        "            loss = loss_crack + loss_reddot + loss_toothmark\n",
        "\n",
        "            val_loss += loss.item()\n",
        "\n",
        "    val_epoch_loss = val_loss / len(val_dataloader)\n",
        "    print(f'Validation Loss: {val_epoch_loss:.4f}')"
      ]
    },
    {
      "cell_type": "markdown",
      "metadata": {
        "id": "qxfS2-SmQIg8"
      },
      "source": [
        "# Thresholding"
      ]
    },
    {
      "cell_type": "code",
      "execution_count": null,
      "metadata": {
        "colab": {
          "base_uri": "https://localhost:8080/"
        },
        "id": "efKtOC_LFA9F",
        "outputId": "7a36480f-6426-4bc8-e5f8-949c0159b5ec"
      },
      "outputs": [
        {
          "name": "stderr",
          "output_type": "stream",
          "text": [
            "100%|██████████| 1288/1288 [00:57<00:00, 22.36it/s]\n"
          ]
        }
      ],
      "source": [
        "train_predictions = []\n",
        "sigmoid = nn.Sigmoid()\n",
        "\n",
        "for image in tqdm(train_df['filename']):\n",
        "    img_path = os.path.join(train_folder_path, image)\n",
        "    img = Image.open(img_path).convert('RGB')\n",
        "    img = transform(img).unsqueeze(0).to(device)\n",
        "    with torch.no_grad():\n",
        "        pred = model(img)\n",
        "        # Apply sigmoid to each output separately\n",
        "        pred_sigmoid = {key: sigmoid(value) for key, value in pred.items()}\n",
        "    # Move tensors to CPU and convert to numpy arrays\n",
        "    pred_numpy = {key: value.cpu().numpy() for key, value in pred_sigmoid.items()}\n",
        "    train_predictions.append(pred_numpy)\n",
        "\n",
        "# Now extract probabilities for each class\n",
        "crack_probs = [output['crack'][0][0] for output in train_predictions]\n",
        "red_dots_probs = [output['red_dots'][0][0] for output in train_predictions]\n",
        "toothmark_probs = [output['toothmark'][0][0] for output in train_predictions]"
      ]
    },
    {
      "cell_type": "code",
      "execution_count": null,
      "metadata": {
        "id": "lk_933CtQJqK"
      },
      "outputs": [],
      "source": [
        "df_probs = pd.DataFrame({\n",
        "    'Crack': crack_probs,\n",
        "    'Red-Dots': red_dots_probs,\n",
        "    'Toothmark': toothmark_probs\n",
        "})"
      ]
    },
    {
      "cell_type": "code",
      "execution_count": null,
      "metadata": {
        "colab": {
          "base_uri": "https://localhost:8080/",
          "height": 1000
        },
        "id": "Y62cGuxqRDk4",
        "outputId": "7bd51f31-b544-47b8-fa35-fbeaf6accf5c"
      },
      "outputs": [
        {
          "data": {
            "image/png": "[encoded data removed]",
            "text/plain": [
              "<Figure size 1000x1000 with 6 Axes>"
            ]
          },
          "metadata": {},
          "output_type": "display_data"
        }
      ],
      "source": [
        "colors = [\"blue\",\"red\",\"green\"]\n",
        "feature_list = [\"Crack\",\"Red-Dots\",\"Toothmark\"]\n",
        "fig, axes = plt.subplots(3, 2, figsize=(10, 10))\n",
        "\n",
        "for i in range(len(feature_list)):\n",
        "    axes[i,0].hist(df_probs.iloc[:, i], bins=20,edgecolor = \"black\",color = colors[i])\n",
        "    axes[i,0].set_xlabel('Probability')\n",
        "    axes[i,0].set_ylabel('Frequency')\n",
        "    axes[i,0].set_title(f'Histogram of {feature_list[i]}')\n",
        "\n",
        "    axes[i,1].bar([\"1\",\"0\"], [np.sum(train_df.iloc[:, i+1]),len(train_df) - np.sum(train_df.iloc[:, i+1])], color = colors[i])\n",
        "    axes[i,1].set_xlabel('Categories')\n",
        "    axes[i,1].set_ylabel('Frequency')\n",
        "    axes[i,1].set_title(f'Bar plot ({train_df.columns[i+1]})')\n",
        "\n",
        "plt.tight_layout()"
      ]
    },
    {
      "cell_type": "code",
      "execution_count": null,
      "metadata": {
        "id": "LdsOyLpyRInf"
      },
      "outputs": [],
      "source": [
        "def find_optimal_thresholds(probs, groundtruths, labels):\n",
        "  optimal_thresholds = {}\n",
        "  for i, label in enumerate(labels):\n",
        "    label_probs = probs[:, i]\n",
        "    label_groundtruth = groundtruths[:, i]\n",
        "\n",
        "    best_threshold = 0.0\n",
        "    best_f1 = -1.0\n",
        "\n",
        "    for threshold in np.arange(0.01, 1.01, 0.001):\n",
        "      binary_predictions = (label_probs >= threshold).astype(int)\n",
        "      f1 = f1_score(label_groundtruth, binary_predictions)\n",
        "\n",
        "      if f1 > best_f1:\n",
        "        best_threshold = threshold\n",
        "        best_f1 = f1\n",
        "\n",
        "    optimal_thresholds[label] = {\n",
        "        \"threshold\": round(best_threshold, 2),\n",
        "        \"f1_score\": best_f1\n",
        "    }\n",
        "\n",
        "  return optimal_thresholds"
      ]
    },
    {
      "cell_type": "code",
      "execution_count": null,
      "metadata": {
        "colab": {
          "base_uri": "https://localhost:8080/"
        },
        "id": "JC7MawPpSfks",
        "outputId": "167d79bb-c02f-4a46-a297-930583f574f4"
      },
      "outputs": [
        {
          "name": "stdout",
          "output_type": "stream",
          "text": [
            "Label: Crack\n",
            "Optimal Threshold: 0.01\n",
            "F1 Score: 0.5775814467145224\n",
            "\n",
            "Label: Red-Dots\n",
            "Optimal Threshold: 0.01\n",
            "F1 Score: 0.7415730337078652\n",
            "\n",
            "Label: Toothmark\n",
            "Optimal Threshold: 0.01\n",
            "F1 Score: 0.7956989247311828\n",
            "\n"
          ]
        }
      ],
      "source": [
        "crack_prob = df_probs[\"Crack\"].values\n",
        "crack_groundtruth = np.array(train_df['Crack'])\n",
        "red_dots_prob = df_probs[\"Red-Dots\"].values\n",
        "red_dots_groundtruth = np.array(train_df['Red-Dots'])\n",
        "toothmark_prob = df_probs[\"Toothmark\"].values\n",
        "toothmark_groundtruth = np.array(train_df['Toothmark'])\n",
        "\n",
        "probs = np.stack((crack_prob, red_dots_prob, toothmark_prob), axis=1)\n",
        "groundtruths = np.stack((crack_groundtruth, red_dots_groundtruth, toothmark_groundtruth), axis=1)\n",
        "labels = [\"Crack\", \"Red-Dots\", \"Toothmark\"]\n",
        "\n",
        "optimal_thresholds = find_optimal_thresholds(probs, groundtruths, labels)\n",
        "\n",
        "for label, values in optimal_thresholds.items():\n",
        "  print(f\"Label: {label}\")\n",
        "  print(f\"Optimal Threshold: {values['threshold']}\")\n",
        "  print(f\"F1 Score: {values['f1_score']}\")\n",
        "  print()"
      ]
    },
    {
      "cell_type": "code",
      "execution_count": null,
      "metadata": {
        "colab": {
          "base_uri": "https://localhost:8080/"
        },
        "id": "121I0d0ESlRR",
        "outputId": "0453a97e-3f37-468d-cb60-42be52b19e8d"
      },
      "outputs": [
        {
          "data": {
            "text/plain": [
              "{'Crack': {'threshold': 0.01, 'f1_score': 0.5775814467145224},\n",
              " 'Red-Dots': {'threshold': 0.01, 'f1_score': 0.7415730337078652},\n",
              " 'Toothmark': {'threshold': 0.01, 'f1_score': 0.7956989247311828}}"
            ]
          },
          "execution_count": 34,
          "metadata": {},
          "output_type": "execute_result"
        }
      ],
      "source": [
        "optimal_thresholds"
      ]
    },
    {
      "cell_type": "code",
      "execution_count": null,
      "metadata": {
        "id": "OBtRaKkfTMW2"
      },
      "outputs": [],
      "source": [
        "thresholds = {'crack': optimal_thresholds['Crack']['threshold'],\n",
        "              'red_dots': optimal_thresholds['Red-Dots']['threshold'],\n",
        "              'toothmark': optimal_thresholds['Toothmark']['threshold']}"
      ]
    },
    {
      "cell_type": "markdown",
      "metadata": {
        "id": "Lsx8AN6BUAlm"
      },
      "source": [
        "# Evaluation on Validation/Testing Set"
      ]
    },
    {
      "cell_type": "code",
      "execution_count": null,
      "metadata": {
        "id": "2Yn20s2lUAK9"
      },
      "outputs": [],
      "source": [
        "def evaluate_model(model, dataloader, criterion, device, thresholds, class_names):\n",
        "    model.eval()\n",
        "    running_loss = 0.0\n",
        "    all_labels = []\n",
        "    all_predictions = []\n",
        "\n",
        "    with torch.no_grad():\n",
        "        for images, labels in tqdm(dataloader, desc=\"Evaluating\", unit=\"batch\"):\n",
        "            images, labels = images.to(device), labels.to(device)\n",
        "\n",
        "            outputs = model(images)  # outputs is a dictionary\n",
        "\n",
        "            # Compute loss for each output separately\n",
        "            crack_labels = labels[:, 0].unsqueeze(1).float()\n",
        "            red_dots_labels = labels[:, 1].unsqueeze(1).float()\n",
        "            toothmark_labels = labels[:, 2].unsqueeze(1).float()\n",
        "\n",
        "            loss_crack = criterion(outputs['crack'], crack_labels)\n",
        "            loss_reddot = criterion(outputs['red_dots'], red_dots_labels)\n",
        "            loss_toothmark = criterion(outputs['toothmark'], toothmark_labels)\n",
        "\n",
        "            loss = loss_crack + loss_reddot + loss_toothmark\n",
        "\n",
        "            # Accumulate running loss\n",
        "            running_loss += loss.item() * images.size(0)\n",
        "\n",
        "            # Apply sigmoid to each output and collect predictions\n",
        "            sigmoid_outputs = {}\n",
        "            preds = {}\n",
        "            for key in outputs.keys():\n",
        "                sigmoid_output = torch.sigmoid(outputs[key]).cpu().numpy()  # Shape: (batch_size, 1)\n",
        "                threshold = thresholds[key]\n",
        "                pred = (sigmoid_output > threshold).astype(int)  # Binary predictions\n",
        "                sigmoid_outputs[key] = sigmoid_output\n",
        "                preds[key] = pred\n",
        "\n",
        "            # Stack predictions and labels\n",
        "            batch_preds = np.concatenate([preds['crack'], preds['red_dots'], preds['toothmark']], axis=1)  # Shape: (batch_size, 3)\n",
        "            batch_labels = labels.cpu().numpy()  # Shape: (batch_size, 3)\n",
        "\n",
        "            all_predictions.append(batch_preds)\n",
        "            all_labels.append(batch_labels)\n",
        "\n",
        "    # Compute average loss\n",
        "    avg_loss = running_loss / len(dataloader.dataset)\n",
        "\n",
        "    # Convert lists to arrays\n",
        "    all_predictions = np.vstack(all_predictions)\n",
        "    all_labels = np.vstack(all_labels)\n",
        "\n",
        "    # Compute metrics\n",
        "    precision, recall, f1, _ = precision_recall_fscore_support(all_labels, all_predictions, average='macro')\n",
        "    report = classification_report(all_labels, all_predictions, target_names=class_names)\n",
        "\n",
        "    # Plot confusion matrices for each class\n",
        "    for i, class_name in enumerate(class_names):\n",
        "        cm = confusion_matrix(all_labels[:, i], all_predictions[:, i])\n",
        "        disp = ConfusionMatrixDisplay(confusion_matrix=cm, display_labels=[f'Not {class_name}', class_name])\n",
        "        disp.plot(cmap=plt.cm.Blues)\n",
        "        plt.title(f'Confusion Matrix - {class_name}')\n",
        "        plt.show()\n",
        "\n",
        "    return all_predictions, all_labels, avg_loss, precision, recall, f1, report"
      ]
    },
    {
      "cell_type": "markdown",
      "metadata": {
        "id": "HkZspShQUH_o"
      },
      "source": [
        "## Validation Set"
      ]
    },
    {
      "cell_type": "code",
      "execution_count": null,
      "metadata": {
        "colab": {
          "base_uri": "https://localhost:8080/",
          "height": 1000
        },
        "id": "VY7yYK_qUDc-",
        "outputId": "a3989151-3591-481e-e704-40f1fde2ff77"
      },
      "outputs": [
        {
          "name": "stderr",
          "output_type": "stream",
          "text": [
            "Evaluating: 100%|██████████| 13/13 [00:09<00:00,  1.41batch/s]\n",
            "/usr/local/lib/python3.10/dist-packages/sklearn/metrics/_classification.py:1531: UndefinedMetricWarning: Recall is ill-defined and being set to 0.0 in samples with no true labels. Use `zero_division` parameter to control this behavior.\n",
            "  _warn_prf(average, modifier, f\"{metric.capitalize()} is\", len(result))\n"
          ]
        },
        {
          "data": {
            "image/png": "[encoded data removed]",
            "text/plain": [
              "<Figure size 640x480 with 2 Axes>"
            ]
          },
          "metadata": {},
          "output_type": "display_data"
        },
        {
          "data": {
            "image/png": "[encoded data removed]",
            "text/plain": [
              "<Figure size 640x480 with 2 Axes>"
            ]
          },
          "metadata": {},
          "output_type": "display_data"
        },
        {
          "data": {
            "image/png": "[encoded data removed]",
            "text/plain": [
              "<Figure size 640x480 with 2 Axes>"
            ]
          },
          "metadata": {},
          "output_type": "display_data"
        }
      ],
      "source": [
        "all_predictions, all_labels, avg_val_loss, val_precision, val_recall, val_f1, val_report = evaluate_model(\n",
        "    model=model,\n",
        "    dataloader=val_dataloader,\n",
        "    criterion=nn.BCEWithLogitsLoss(),\n",
        "    device=device,\n",
        "    thresholds=thresholds,\n",
        "    class_names=classes\n",
        ")"
      ]
    },
    {
      "cell_type": "code",
      "execution_count": null,
      "metadata": {
        "colab": {
          "base_uri": "https://localhost:8080/"
        },
        "id": "-37myEUYUI4a",
        "outputId": "00a73b36-bcb5-4b36-943a-f9ae87b105a5"
      },
      "outputs": [
        {
          "name": "stdout",
          "output_type": "stream",
          "text": [
            "Validation Loss: 1.9977\n",
            "Validation Precision: 0.5529\n",
            "Validation Recall: 1.0000\n",
            "Validation F1-score: 0.7045\n",
            "Classification Report:\n",
            "              precision    recall  f1-score   support\n",
            "\n",
            "       Crack       0.39      1.00      0.56        81\n",
            "    Red-Dots       0.62      1.00      0.77       130\n",
            "   Toothmark       0.64      1.00      0.78       134\n",
            "\n",
            "   micro avg       0.55      1.00      0.71       345\n",
            "   macro avg       0.55      1.00      0.70       345\n",
            "weighted avg       0.58      1.00      0.73       345\n",
            " samples avg       0.55      0.94      0.67       345\n",
            "\n"
          ]
        }
      ],
      "source": [
        "print(f'Validation Loss: {avg_val_loss:.4f}')\n",
        "print(f'Validation Precision: {val_precision:.4f}')\n",
        "print(f'Validation Recall: {val_recall:.4f}')\n",
        "print(f'Validation F1-score: {val_f1:.4f}')\n",
        "print(f'Classification Report:\\n{val_report}')"
      ]
    },
    {
      "cell_type": "markdown",
      "metadata": {
        "id": "LkL95DiIULYt"
      },
      "source": [
        "## Testing Set"
      ]
    },
    {
      "cell_type": "code",
      "execution_count": null,
      "metadata": {
        "colab": {
          "base_uri": "https://localhost:8080/",
          "height": 1000
        },
        "id": "S4M2QndVUK7s",
        "outputId": "ea86e3fd-35b1-4e79-8d88-93ec0d17ad0b"
      },
      "outputs": [
        {
          "name": "stderr",
          "output_type": "stream",
          "text": [
            "Evaluating: 100%|██████████| 7/7 [00:04<00:00,  1.53batch/s]\n",
            "/usr/local/lib/python3.10/dist-packages/sklearn/metrics/_classification.py:1531: UndefinedMetricWarning: Recall is ill-defined and being set to 0.0 in samples with no true labels. Use `zero_division` parameter to control this behavior.\n",
            "  _warn_prf(average, modifier, f\"{metric.capitalize()} is\", len(result))\n"
          ]
        },
        {
          "data": {
            "image/png": "[encoded data removed]",
            "text/plain": [
              "<Figure size 640x480 with 2 Axes>"
            ]
          },
          "metadata": {},
          "output_type": "display_data"
        },
        {
          "data": {
            "image/png": "[encoded data removed]",
            "text/plain": [
              "<Figure size 640x480 with 2 Axes>"
            ]
          },
          "metadata": {},
          "output_type": "display_data"
        },
        {
          "data": {
            "image/png": "[encoded data removed]",
            "text/plain": [
              "<Figure size 640x480 with 2 Axes>"
            ]
          },
          "metadata": {},
          "output_type": "display_data"
        }
      ],
      "source": [
        "test_predictions, test_labels, avg_test_loss, test_precision, test_recall, test_f1, test_report = evaluate_model(\n",
        "    model=model,\n",
        "    dataloader=test_dataloader,\n",
        "    criterion=nn.BCEWithLogitsLoss(),\n",
        "    device=device,\n",
        "    thresholds=thresholds,\n",
        "    class_names=classes\n",
        ")"
      ]
    },
    {
      "cell_type": "code",
      "execution_count": null,
      "metadata": {
        "colab": {
          "base_uri": "https://localhost:8080/"
        },
        "id": "U0cAbRx0UPxj",
        "outputId": "4ab7c9af-c945-4249-ea99-ef2de48d9884"
      },
      "outputs": [
        {
          "name": "stdout",
          "output_type": "stream",
          "text": [
            "Test Loss: 1.9721\n",
            "Test Precision: 0.5696\n",
            "Test Recall: 1.0000\n",
            "Test F1-score: 0.7189\n",
            "Classification Report:\n",
            "              precision    recall  f1-score   support\n",
            "\n",
            "       Crack       0.43      1.00      0.60        44\n",
            "    Red-Dots       0.57      1.00      0.73        59\n",
            "   Toothmark       0.71      1.00      0.83        73\n",
            "\n",
            "   micro avg       0.57      1.00      0.73       176\n",
            "   macro avg       0.57      1.00      0.72       176\n",
            "weighted avg       0.59      1.00      0.74       176\n",
            " samples avg       0.57      0.91      0.68       176\n",
            "\n"
          ]
        }
      ],
      "source": [
        "print(f'Test Loss: {avg_test_loss:.4f}')\n",
        "print(f'Test Precision: {test_precision:.4f}')\n",
        "print(f'Test Recall: {test_recall:.4f}')\n",
        "print(f'Test F1-score: {test_f1:.4f}')\n",
        "print(f'Classification Report:\\n{test_report}')"
      ]
    },
    {
      "cell_type": "code",
      "execution_count": null,
      "metadata": {
        "id": "GDW2cTXTURtS"
      },
      "outputs": [],
      "source": []
    }
  ],
  "metadata": {
    "accelerator": "GPU",
    "colab": {
      "gpuType": "T4",
      "provenance": []
    },
    "kernelspec": {
      "display_name": "Python 3",
      "name": "python3"
    },
    "language_info": {
      "codemirror_mode": {
        "name": "ipython",
        "version": 3
      },
      "file_extension": ".py",
      "mimetype": "text/x-python",
      "name": "python",
      "nbconvert_exporter": "python",
      "pygments_lexer": "ipython3",
      "version": "3.11.9"
    }
  },
  "nbformat": 4,
  "nbformat_minor": 0
}
